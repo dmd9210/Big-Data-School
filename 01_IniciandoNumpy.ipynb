{
 "cells": [
  {
   "cell_type": "markdown",
   "metadata": {},
   "source": [
    "# Numpy\n",
    "\n",
    "Es una liberia matematica (optimizada) para matrices, álgebra lineal y transformadas de Fourier.\n",
    "- Su nombre proviene de : Numerical Python\n",
    "- Es una libreria que esta escrita en su mayor parte en lenguaje C (en su mayoria) y C++ lo que hace que el procesamiento de la información sea 50 veces más rápida que Python sin la librería. \n",
    "- ndarray es un objeto \"array\" o arreglo que tiene muchas funciones por que hace que sea ésta liberia sea utilizada en Data science. \n"
   ]
  },
  {
   "cell_type": "code",
   "execution_count": 1,
   "metadata": {},
   "outputs": [],
   "source": [
    "import numpy"
   ]
  },
  {
   "cell_type": "code",
   "execution_count": 2,
   "metadata": {},
   "outputs": [
    {
     "name": "stdout",
     "output_type": "stream",
     "text": [
      "[1 2 3]\n"
     ]
    }
   ],
   "source": [
    "arreglo = numpy.array([1, 2, 3])\n",
    "print(arreglo)"
   ]
  },
  {
   "cell_type": "code",
   "execution_count": 3,
   "metadata": {},
   "outputs": [],
   "source": [
    "import numpy as np"
   ]
  },
  {
   "cell_type": "code",
   "execution_count": 4,
   "metadata": {},
   "outputs": [
    {
     "name": "stdout",
     "output_type": "stream",
     "text": [
      "[1 2 3]\n"
     ]
    }
   ],
   "source": [
    "arreglo = np.array([1, 2, 3])\n",
    "print(arreglo)"
   ]
  },
  {
   "cell_type": "code",
   "execution_count": 5,
   "metadata": {},
   "outputs": [
    {
     "data": {
      "text/plain": [
       "numpy.ndarray"
      ]
     },
     "execution_count": 5,
     "metadata": {},
     "output_type": "execute_result"
    }
   ],
   "source": [
    "type(arreglo)"
   ]
  },
  {
   "cell_type": "code",
   "execution_count": 6,
   "metadata": {},
   "outputs": [],
   "source": [
    "#np?"
   ]
  },
  {
   "cell_type": "code",
   "execution_count": 7,
   "metadata": {},
   "outputs": [
    {
     "name": "stdout",
     "output_type": "stream",
     "text": [
      "3\n"
     ]
    }
   ],
   "source": [
    "#Dimensionamiento de arreglos:\n",
    "#una dimension de un arreglo es el nivel de profunidad\n",
    "#(anidamiento)\n",
    "#Escalres o 0-D\n",
    "arreglo = np.array(3)\n",
    "print(arreglo)"
   ]
  },
  {
   "cell_type": "code",
   "execution_count": 8,
   "metadata": {},
   "outputs": [
    {
     "name": "stdout",
     "output_type": "stream",
     "text": [
      "0\n",
      "1\n",
      "2\n",
      "3\n"
     ]
    }
   ],
   "source": [
    "#Numpy tiene un atributo: ndim que regrea el numero de dimensiones\n",
    "cero = np.array(17)\n",
    "uno = np.array([1, 2, 3, 4, 5])\n",
    "dos = np.array([[1, 2, 3], [4, 5, 6]])\n",
    "tres = np.array([[[1,2,3],[4,5,6]],[[1,2,3],[4,5,6]]])\n",
    "\n",
    "print(cero.ndim)\n",
    "print(uno.ndim)            \n",
    "print(dos.ndim)\n",
    "print(tres.ndim)                "
   ]
  },
  {
   "cell_type": "code",
   "execution_count": 9,
   "metadata": {},
   "outputs": [
    {
     "name": "stdout",
     "output_type": "stream",
     "text": [
      "[[[[1 2 3]]]]\n",
      "Dim :  4\n"
     ]
    }
   ],
   "source": [
    "#Otro atributo, solo que este es cuando se crea el arreglo\n",
    "arreglo = np.array([1, 2, 3], ndmin = 4)\n",
    "print(arreglo)\n",
    "print(\"Dim : \" , arreglo.ndim)"
   ]
  },
  {
   "cell_type": "code",
   "execution_count": 10,
   "metadata": {},
   "outputs": [
    {
     "name": "stdout",
     "output_type": "stream",
     "text": [
      "1\n",
      "2\n"
     ]
    }
   ],
   "source": [
    "#Elementos de un arreglo\n",
    "arreglo = np.array([1, 2, 3])\n",
    "print(arreglo[0])\n",
    "print(arreglo[0] * arreglo[1])"
   ]
  },
  {
   "cell_type": "code",
   "execution_count": 11,
   "metadata": {},
   "outputs": [
    {
     "name": "stdout",
     "output_type": "stream",
     "text": [
      "2\n",
      "6\n",
      "12\n"
     ]
    }
   ],
   "source": [
    "#Ahora con dimensiones\n",
    "dos = np.array([[1, 2, 3], [4, 5, 6]])\n",
    "tres = np.array([[[1, 2, 3],[4, 5, 6]], [[7, 8, 9], [10, 11, 12]]])\n",
    "print(dos[0, 1])#en la dim 1 el segundo elemento\n",
    "print(dos[1, 2]) #en la dim 2 el tercer elemento\n",
    "print(tres[1, 1, 2])\n",
    "#en la dim 1 [[[1, 2, 3],[4, 5, 6]],[[7, 8, 9],[10, 11, 12]]\n",
    "#Dim 1: [10, 11, 12], elementos 2 : 2"
   ]
  },
  {
   "cell_type": "code",
   "execution_count": 12,
   "metadata": {},
   "outputs": [
    {
     "name": "stdout",
     "output_type": "stream",
     "text": [
      "[1 2 3]\n",
      "[1 2 3]\n",
      "[1 2]\n",
      "[]\n",
      "[3 6 9]\n",
      "[1 3 5 7 9]\n",
      "[2 3]\n",
      "[2 5]\n",
      "[[2 3]\n",
      " [5 6]]\n"
     ]
    }
   ],
   "source": [
    "#Se incluye el limite inferiro pero no el superior\n",
    "arreglo = np.array([1, 2, 3])\n",
    "print(arreglo[0:3])\n",
    "print(arreglo[0:])\n",
    "print(arreglo[:2])\n",
    "print(arreglo[-1:-2])\n",
    "#Saltos o pasos en un arreglo\n",
    "arreglo = np.array([1, 2, 3, 4, 5, 6, 7, 8, 9, 10])\n",
    "print(arreglo[2:9:3])\n",
    "print(arreglo[::2])\n",
    "dos = np.array([[1, 2, 3],[4, 5, 6]])\n",
    "print(dos[0, 1:3])\n",
    "print(dos[0:2, 1])\n",
    "print(dos[0:2, 1:3])\n"
   ]
  },
  {
   "cell_type": "raw",
   "metadata": {},
   "source": [
    "#Tipos de datos \n",
    "- Python: strings, integer, float, boolean, complex \n",
    "- Numpy: i-integer, b-boolean, u-unsigned integer, f-float, c-complex float, S-string, U-unicod, V-void\n",
    "    "
   ]
  },
  {
   "cell_type": "code",
   "execution_count": 13,
   "metadata": {},
   "outputs": [
    {
     "name": "stdout",
     "output_type": "stream",
     "text": [
      "int32\n",
      "float64\n"
     ]
    }
   ],
   "source": [
    "arreglo = np.array([1, 2, 3])\n",
    "print(arreglo.dtype)\n",
    "arreglo = np.array([2.5, 70.45, 100.0])\n",
    "print(arreglo.dtype)"
   ]
  },
  {
   "cell_type": "code",
   "execution_count": 14,
   "metadata": {},
   "outputs": [
    {
     "name": "stdout",
     "output_type": "stream",
     "text": [
      "[1 2 3]\n",
      "int32\n"
     ]
    }
   ],
   "source": [
    "arreglo = np.array([1, 2, 3], dtype=\"i4\")\n",
    "print(arreglo)\n",
    "print(arreglo.dtype)"
   ]
  },
  {
   "cell_type": "code",
   "execution_count": 15,
   "metadata": {},
   "outputs": [],
   "source": [
    "#Ejemplo de error\n",
    "#arreglo = np.array([\"Hugo\", 2, \"Luis\"], dtype=\"i\")"
   ]
  },
  {
   "cell_type": "code",
   "execution_count": 16,
   "metadata": {},
   "outputs": [
    {
     "name": "stdout",
     "output_type": "stream",
     "text": [
      "[  2  70 100   0  -1]\n",
      "int32\n",
      "[ True  True  True False  True]\n",
      "bool\n"
     ]
    }
   ],
   "source": [
    "arreglo = np.array([2.5, 70.45, 100.0, 0, -1])\n",
    "#crea una copia del arreglo y convierte el tipo de dato\n",
    "nuevo = arreglo.astype(\"i\") #o int\n",
    "print(nuevo)\n",
    "print(nuevo.dtype)\n",
    "nnuevo = nuevo.astype(bool)\n",
    "print(nnuevo)\n",
    "print(nnuevo.dtype)"
   ]
  },
  {
   "cell_type": "code",
   "execution_count": 17,
   "metadata": {},
   "outputs": [
    {
     "name": "stdout",
     "output_type": "stream",
     "text": [
      "[10  2  3]\n",
      "[ 1 20  3]\n"
     ]
    }
   ],
   "source": [
    "import numpy as np\n",
    "#Copiar arreglos: copia arreglo orignal, no modifica\n",
    "arreglo = np.array([1, 2, 3])\n",
    "nuevo = arreglo.copy()\n",
    "arreglo[0] = 10\n",
    "nuevo[1] = 20\n",
    "print(arreglo)\n",
    "print(nuevo)"
   ]
  },
  {
   "cell_type": "code",
   "execution_count": 18,
   "metadata": {},
   "outputs": [
    {
     "name": "stdout",
     "output_type": "stream",
     "text": [
      "[10 20  3]\n",
      "[10 20  3]\n"
     ]
    }
   ],
   "source": [
    "#Vista: copia el arreglo original y las modificaciones que se realicen\n",
    "#modifican el arreglo original\n",
    "#Se puede decir que queda como una referencia\n",
    "arreglo = np.array([1, 2, 3])\n",
    "nuevo = arreglo.view()\n",
    "arreglo[0]= 10\n",
    "arreglo[1]= 20\n",
    "print(arreglo)\n",
    "print(nuevo)"
   ]
  },
  {
   "cell_type": "code",
   "execution_count": 19,
   "metadata": {},
   "outputs": [
    {
     "name": "stdout",
     "output_type": "stream",
     "text": [
      "None\n",
      "[1 2 3]\n"
     ]
    }
   ],
   "source": [
    "#Atributo: base\n",
    "arreglo = np.array([1, 2, 3])\n",
    "copia = arreglo.copy() #None\n",
    "vista = arreglo.view()\n",
    "\n",
    "print(copia.base) #None tiene su propia información\n",
    "print(vista.base)"
   ]
  },
  {
   "cell_type": "code",
   "execution_count": 20,
   "metadata": {},
   "outputs": [
    {
     "name": "stdout",
     "output_type": "stream",
     "text": [
      "(2, 3)\n"
     ]
    }
   ],
   "source": [
    "#shape: regresa una tupla con el\n",
    "#numero de elementos en cada dimension\n",
    "dos = np.array([[1, 2, 3], [4, 5, 6]])\n",
    "print(dos.shape)"
   ]
  },
  {
   "cell_type": "code",
   "execution_count": 21,
   "metadata": {},
   "outputs": [
    {
     "name": "stdout",
     "output_type": "stream",
     "text": [
      "[[1 2 3]]\n",
      "(1, 3)\n"
     ]
    }
   ],
   "source": [
    "cinco = np.array([1, 2, 3], ndmin = 2)\n",
    "print(cinco)\n",
    "print(cinco.shape)"
   ]
  },
  {
   "cell_type": "code",
   "execution_count": 22,
   "metadata": {},
   "outputs": [
    {
     "name": "stdout",
     "output_type": "stream",
     "text": [
      "[[ 1  2  3  4  5]\n",
      " [ 6  7  8  9 10]]\n"
     ]
    }
   ],
   "source": [
    "#reshape: convierte un arreglo de una dimension a otra dimension\n",
    "#numero de arreglo, numero de elementos\n",
    "arreglo = np.array([1, 2, 3, 4, 5, 6, 7, 8, 9, 10])\n",
    "#dos arreglos, de 5 elementos cada arreglo\n",
    "nuevo = arreglo.reshape(2, 5)\n",
    "print(nuevo)"
   ]
  },
  {
   "cell_type": "code",
   "execution_count": 23,
   "metadata": {},
   "outputs": [
    {
     "name": "stdout",
     "output_type": "stream",
     "text": [
      "[[[ 1  2  3]\n",
      "  [ 4  5  6]]\n",
      "\n",
      " [[ 7  8  9]\n",
      "  [10 11 12]]]\n"
     ]
    }
   ],
   "source": [
    "arreglo = np.array([1, 2, 3, 4, 5, 6, 7, 8, 9, 10, 11, 12])\n",
    "nuevo = arreglo.reshape(2, 2, 3)\n",
    "print(nuevo)"
   ]
  },
  {
   "cell_type": "code",
   "execution_count": 24,
   "metadata": {},
   "outputs": [],
   "source": [
    "import numpy as np"
   ]
  },
  {
   "cell_type": "code",
   "execution_count": 25,
   "metadata": {},
   "outputs": [
    {
     "name": "stdout",
     "output_type": "stream",
     "text": [
      "[[[ 1]\n",
      "  [ 2]\n",
      "  [ 3]\n",
      "  [ 4]\n",
      "  [ 5]]\n",
      "\n",
      " [[ 6]\n",
      "  [ 7]\n",
      "  [ 8]\n",
      "  [ 9]\n",
      "  [10]]]\n"
     ]
    }
   ],
   "source": [
    "arreglo = np.array([1, 2, 3, 4, 5, 6, 7, 8, 9, 10])\n",
    "nuevo = arreglo.reshape(2, 5, -1) #-1, Numpy calcula este numero solo\n",
    "#solo se puede utilizar en una dimension\n",
    "print(nuevo)"
   ]
  },
  {
   "cell_type": "code",
   "execution_count": 26,
   "metadata": {},
   "outputs": [
    {
     "name": "stdout",
     "output_type": "stream",
     "text": [
      "3\n"
     ]
    }
   ],
   "source": [
    "print(nuevo.ndim)"
   ]
  },
  {
   "cell_type": "code",
   "execution_count": 27,
   "metadata": {},
   "outputs": [
    {
     "name": "stdout",
     "output_type": "stream",
     "text": [
      "[ 1  2  3  4  5  6  7  8  9 10]\n"
     ]
    }
   ],
   "source": [
    "#Convierte un arreglo multidimensional a una dimension\n",
    "n = nuevo.reshape(-1)\n",
    "print(n)\n"
   ]
  },
  {
   "cell_type": "code",
   "execution_count": 28,
   "metadata": {},
   "outputs": [
    {
     "name": "stdout",
     "output_type": "stream",
     "text": [
      "1\n",
      "2\n",
      "3\n"
     ]
    }
   ],
   "source": [
    "arreglo = np.array([1, 2, 3])\n",
    "for i in arreglo:\n",
    "    print(i)"
   ]
  },
  {
   "cell_type": "code",
   "execution_count": 29,
   "metadata": {},
   "outputs": [
    {
     "name": "stdout",
     "output_type": "stream",
     "text": [
      "[1 2 3]\n",
      "[4 5 6]\n"
     ]
    }
   ],
   "source": [
    "dos = np.array([[1, 2, 3], [4, 5, 6]])\n",
    "for i in dos:\n",
    "    print(i)"
   ]
  },
  {
   "cell_type": "code",
   "execution_count": 30,
   "metadata": {},
   "outputs": [
    {
     "name": "stdout",
     "output_type": "stream",
     "text": [
      "1\n",
      "2\n",
      "3\n",
      "4\n",
      "5\n",
      "6\n"
     ]
    }
   ],
   "source": [
    "#dos dimensiones\n",
    "dos = np.array([[1, 2, 3], [4, 5, 6]])\n",
    "for i in dos:\n",
    "    for j in i:\n",
    "        print(j)"
   ]
  },
  {
   "cell_type": "code",
   "execution_count": 31,
   "metadata": {},
   "outputs": [
    {
     "name": "stdout",
     "output_type": "stream",
     "text": [
      "[[1 2 3]\n",
      " [4 5 6]]\n",
      "[[ 7  8  9]\n",
      " [10 11 12]]\n"
     ]
    }
   ],
   "source": [
    "tres = np.array([[[1,2,3],[4,5,6]],[[7,8,9],[10,11,12]]])\n",
    "for i in tres:\n",
    "    print(i)"
   ]
  },
  {
   "cell_type": "code",
   "execution_count": 32,
   "metadata": {},
   "outputs": [
    {
     "name": "stdout",
     "output_type": "stream",
     "text": [
      "1\n",
      "2\n",
      "3\n",
      "4\n",
      "5\n",
      "6\n",
      "7\n",
      "8\n",
      "9\n",
      "10\n",
      "11\n",
      "12\n"
     ]
    }
   ],
   "source": [
    "#Iteraciones sencillas - complejas\n",
    "#nditer()\n",
    "#Iteracion sencilla\n",
    "for i in np.nditer(tres):\n",
    "    print(i)"
   ]
  },
  {
   "cell_type": "code",
   "execution_count": 33,
   "metadata": {},
   "outputs": [
    {
     "name": "stdout",
     "output_type": "stream",
     "text": [
      "b'1'\n",
      "b'2'\n",
      "b'3'\n"
     ]
    }
   ],
   "source": [
    "arreglo = np.array([1, 2, 3])\n",
    "#No se cambia el tipo de dato.\n",
    "#Crea un buffer para realizar la accion que se solicita\n",
    "for i in np.nditer(arreglo, flags=[\"buffered\"], op_dtypes=[\"S\"]):\n",
    "    print(i)"
   ]
  },
  {
   "cell_type": "code",
   "execution_count": 34,
   "metadata": {},
   "outputs": [
    {
     "name": "stdout",
     "output_type": "stream",
     "text": [
      "1\n",
      "3\n",
      "4\n",
      "6\n"
     ]
    }
   ],
   "source": [
    "dos = np.array([[1,2,3], [4,5,6]])\n",
    "for i in np.nditer(dos[:, ::2]): #Se salta un elemento en cada dimension\n",
    "    print(i)"
   ]
  },
  {
   "cell_type": "code",
   "execution_count": 35,
   "metadata": {},
   "outputs": [
    {
     "name": "stdout",
     "output_type": "stream",
     "text": [
      "(0,) 1\n",
      "(1,) 2\n",
      "(2,) 3\n"
     ]
    }
   ],
   "source": [
    "#ndenumerate: es un indice durante la iteracion\n",
    "arreglo = np.array([1, 2, 3])\n",
    "for i , j in np.ndenumerate(arreglo):\n",
    "    print(i,j)"
   ]
  },
  {
   "cell_type": "code",
   "execution_count": 36,
   "metadata": {},
   "outputs": [
    {
     "name": "stdout",
     "output_type": "stream",
     "text": [
      "(0, 0) 1\n",
      "(0, 1) 2\n",
      "(0, 2) 3\n",
      "(1, 0) 4\n",
      "(1, 1) 5\n",
      "(1, 2) 6\n"
     ]
    }
   ],
   "source": [
    "dos = np.array([[1, 2, 3],[4, 5, 6]])\n",
    "for i, j in np.ndenumerate(dos):\n",
    "    print(i, j)"
   ]
  },
  {
   "cell_type": "code",
   "execution_count": 37,
   "metadata": {},
   "outputs": [
    {
     "name": "stdout",
     "output_type": "stream",
     "text": [
      "[[1 2 3]\n",
      " [4 5 6]]\n",
      "[1 2 3 4 5 6]\n"
     ]
    }
   ],
   "source": [
    "#Concatenate()\n",
    "a = np.array([1, 2, 3])\n",
    "b = np.array([4, 5, 6])\n",
    "arreglo = np.array((a, b))\n",
    "print(arreglo)\n",
    "arreglo = np.concatenate((a, b))\n",
    "print(arreglo)"
   ]
  },
  {
   "cell_type": "code",
   "execution_count": 38,
   "metadata": {},
   "outputs": [
    {
     "name": "stdout",
     "output_type": "stream",
     "text": [
      "[[1 2]\n",
      " [3 4]\n",
      " [5 6]\n",
      " [7 8]]\n"
     ]
    }
   ],
   "source": [
    "a = np.array([[1, 2],[3, 4]])\n",
    "b = np.array([[5, 6],[7, 8]])\n",
    "arreglo = np.concatenate((a, b))\n",
    "print(arreglo)"
   ]
  },
  {
   "cell_type": "code",
   "execution_count": 39,
   "metadata": {},
   "outputs": [
    {
     "name": "stdout",
     "output_type": "stream",
     "text": [
      "[[1 4]\n",
      " [2 5]\n",
      " [3 6]]\n",
      "[1 2 3 4 5 6]\n",
      "[[1 2 3]\n",
      " [4 5 6]]\n",
      "[[[1 4]\n",
      "  [2 5]\n",
      "  [3 6]]]\n"
     ]
    }
   ],
   "source": [
    "#Stack(): concatena pero se le indica la manera con axis\n",
    "a = np.array([1, 2, 3])\n",
    "b = np.array([4, 5, 6])\n",
    "#arreglo = np.array((a,b))\n",
    "arreglo = np.stack((a, b), axis = 1)\n",
    "arregloH = np.hstack((a, b))#reglones\n",
    "arregloV = np.vstack((a, b))#columnas\n",
    "arregloD = np.dstack((a, b))#altura(profundidad)\n",
    "print(arreglo)\n",
    "print(arregloH)\n",
    "print(arregloV)\n",
    "print(arregloD)"
   ]
  },
  {
   "cell_type": "code",
   "execution_count": 40,
   "metadata": {},
   "outputs": [
    {
     "name": "stdout",
     "output_type": "stream",
     "text": [
      "Arreglo:  [array([1, 2, 3, 4]), array([5, 6, 7]), array([ 8,  9, 10])]\n",
      "Arreglo 1:  [1 2 3 4]\n",
      "Arreglo 2:  [5 6 7]\n",
      "Arreglo 3:  [ 8  9 10]\n",
      "Imprime a:  [1 2 3 4]\n",
      "Imprime b:  [5 6 7]\n",
      "Imprime c:  [ 8  9 10]\n"
     ]
    }
   ],
   "source": [
    "uno = np.array([1, 2, 3, 4, 5, 6, 7, 8, 9, 10])\n",
    "arreglo = np.array_split(uno, 3)#divide en 3 arreglos\n",
    "a, b, c = np.array_split(uno, 3)\n",
    "print(\"Arreglo: \", arreglo)\n",
    "print(\"Arreglo 1: \", arreglo[0])\n",
    "print(\"Arreglo 2: \", arreglo[1])\n",
    "print(\"Arreglo 3: \", arreglo[2])\n",
    "print(\"Imprime a: \",a)\n",
    "print(\"Imprime b: \",b)\n",
    "print(\"Imprime c: \",c)"
   ]
  },
  {
   "cell_type": "code",
   "execution_count": 41,
   "metadata": {},
   "outputs": [
    {
     "name": "stdout",
     "output_type": "stream",
     "text": [
      "Busquedad en uno:  (array([7], dtype=int64),)\n",
      "Pares en uno:  (array([1, 3, 5, 7, 9], dtype=int64),)\n"
     ]
    }
   ],
   "source": [
    "uno = np.array([1, 2, 3, 4, 5, 6, 7, 8, 9, 10])\n",
    "#Busqueda en un arreglo, devulve una tupla\n",
    "print(\"Busquedad en uno: \", np.where(uno== 8))\n",
    "print(\"Pares en uno: \", np.where(uno%2 == 0))"
   ]
  },
  {
   "cell_type": "code",
   "execution_count": 42,
   "metadata": {},
   "outputs": [
    {
     "name": "stdout",
     "output_type": "stream",
     "text": [
      "[5, 3, 1]\n"
     ]
    }
   ],
   "source": [
    "import numpy as np\n",
    "#Pregunta de examen\n",
    "examen = [1, 2, 3, 4, 5]\n",
    "print(examen[::-2])"
   ]
  },
  {
   "cell_type": "code",
   "execution_count": 43,
   "metadata": {},
   "outputs": [
    {
     "name": "stdout",
     "output_type": "stream",
     "text": [
      "Ordenado uno:  [ 1  2  6  8 10]\n",
      "Ordeando dos:  [[ 2  6 10]\n",
      " [ 1  8  9]]\n"
     ]
    }
   ],
   "source": [
    "#ordenado \n",
    "uno = np.array([10, 6, 2, 8, 1])\n",
    "dos = np.array([[10, 6, 2],[8, 1, 9]])\n",
    "print(\"Ordenado uno: \", np.sort(uno))\n",
    "print(\"Ordeando dos: \", np.sort(dos))"
   ]
  },
  {
   "cell_type": "code",
   "execution_count": 44,
   "metadata": {},
   "outputs": [
    {
     "name": "stdout",
     "output_type": "stream",
     "text": [
      "[2]\n"
     ]
    }
   ],
   "source": [
    "#Comparación a manera de filtrado\n",
    "arreglo = np.array([1 ,2, 3])\n",
    "val = [False, True, False]\n",
    "nuevo = arreglo[val]\n",
    "print(nuevo)"
   ]
  },
  {
   "cell_type": "code",
   "execution_count": 45,
   "metadata": {},
   "outputs": [
    {
     "name": "stdout",
     "output_type": "stream",
     "text": [
      "[False, False, True]\n",
      "[3]\n"
     ]
    }
   ],
   "source": [
    "arreglo = np.array([1, 2, 3])\n",
    "val = []\n",
    "for i in arreglo:\n",
    "    if i > 2:\n",
    "        val.append(True)\n",
    "    else:\n",
    "        val.append(False)\n",
    "nuevo = arreglo[val]\n",
    "print(val)\n",
    "print(nuevo)"
   ]
  },
  {
   "cell_type": "code",
   "execution_count": 46,
   "metadata": {},
   "outputs": [
    {
     "name": "stdout",
     "output_type": "stream",
     "text": [
      "[False False  True]\n",
      "[3]\n"
     ]
    }
   ],
   "source": [
    "#otra manera de filtrar, mas directa\n",
    "arreglo = np.array([1, 2, 3])\n",
    "val = arreglo > 2\n",
    "nuevo = arreglo[val]\n",
    "print(val)\n",
    "print(nuevo)"
   ]
  },
  {
   "cell_type": "code",
   "execution_count": 47,
   "metadata": {},
   "outputs": [
    {
     "name": "stdout",
     "output_type": "stream",
     "text": [
      "Aleatorio : 33\n",
      "Aleatorio rand:  0.5156072772744972\n",
      "Aleatorio rand(3):  [0.0127489  0.86623213 0.78647155]\n",
      "Aleatorio:  [26 11 80]\n",
      "Aleatorio rand(3,5):  [[0.32881977 0.16066092 0.57988468 0.64677902 0.13342795]\n",
      " [0.80898158 0.9478295  0.54222178 0.72747043 0.56569261]\n",
      " [0.5340169  0.15631254 0.57024237 0.60149983 0.12641839]]\n",
      "Aleatorio choice:  2\n",
      "Aleatorio choice size:  [[2 2 5 4 5]\n",
      " [4 3 3 4 5]\n",
      " [5 1 1 1 2]]\n"
     ]
    }
   ],
   "source": [
    "#Pseudoaleatorios\n",
    "from numpy import random\n",
    "alea = random.randint(100) #un numero entre 0-100\n",
    "print(\"Aleatorio :\" ,alea)\n",
    "alea = random.rand() #un numero entre 0-1\n",
    "print(\"Aleatorio rand: \", alea)\n",
    "alea = random.rand(3)\n",
    "print(\"Aleatorio rand(3): \", alea)\n",
    "alea = random.randint(100, size=3)\n",
    "print(\"Aleatorio: \", alea)\n",
    "alea = random.rand(3, 5)\n",
    "print(\"Aleatorio rand(3,5): \",alea)\n",
    "alea = random.choice([1, 2, 3, 4, 5]) #selecciona un valor del arreglo\n",
    "print(\"Aleatorio choice: \",alea)\n",
    "alea = random.choice([1, 2, 3, 4, 5], size=(3,5))\n",
    "print(\"Aleatorio choice size: \", alea)"
   ]
  },
  {
   "cell_type": "code",
   "execution_count": 48,
   "metadata": {},
   "outputs": [
    {
     "name": "stdout",
     "output_type": "stream",
     "text": [
      "Shuffle:  [2 1 3]\n",
      "Permutation:  [2 1 3]\n",
      "Original:  [2 1 3]\n"
     ]
    }
   ],
   "source": [
    "#Shuffis y permutation\n",
    "from numpy import random\n",
    "#import numpy as np\n",
    "arreglo = np.array([1, 2, 3])\n",
    "random.shuffle(arreglo)#Modfica el arreglo original\n",
    "print(\"Shuffle: \",arreglo)\n",
    "print(\"Permutation: \", random.permutation(arreglo))\n",
    "print(\"Original: \", arreglo)"
   ]
  },
  {
   "cell_type": "code",
   "execution_count": 49,
   "metadata": {},
   "outputs": [
    {
     "name": "stderr",
     "output_type": "stream",
     "text": [
      "C:\\ProgramData\\Anaconda3\\lib\\site-packages\\seaborn\\distributions.py:2619: FutureWarning: `distplot` is a deprecated function and will be removed in a future version. Please adapt your code to use either `displot` (a figure-level function with similar flexibility) or `kdeplot` (an axes-level function for kernel density plots).\n",
      "  warnings.warn(msg, FutureWarning)\n"
     ]
    },
    {
     "data": {
      "image/png": "[encoded data removed]",
      "text/plain": [
       "<Figure size 432x288 with 1 Axes>"
      ]
     },
     "metadata": {
      "needs_background": "light"
     },
     "output_type": "display_data"
    }
   ],
   "source": [
    "import matplotlib.pyplot as plt\n",
    "import seaborn as sns\n",
    "#Seaborn es una libreria (de alto nivel) basa en matplotlib\n",
    "#para la visualizacion de datos.\n",
    "#Propociona graficas estadisticas.\n",
    "sns.distplot(random.uniform(size=1000), hist=False)\n",
    "plt.show()"
   ]
  },
  {
   "cell_type": "code",
   "execution_count": 50,
   "metadata": {},
   "outputs": [
    {
     "name": "stdout",
     "output_type": "stream",
     "text": [
      "[[ 0.55891726  1.42784451 -0.16236474]\n",
      " [-0.44657236 -0.82265509 -0.7924676 ]]\n"
     ]
    }
   ],
   "source": [
    "dist = random.normal(size=(2,3))\n",
    "print(dist)"
   ]
  },
  {
   "cell_type": "code",
   "execution_count": 90,
   "metadata": {},
   "outputs": [
    {
     "name": "stdout",
     "output_type": "stream",
     "text": [
      "[[ 4.58859025  4.61248593  3.3718014 ]\n",
      " [-0.78934665  3.04069174  3.21961685]]\n"
     ]
    }
   ],
   "source": [
    "#estandar a 2\n",
    "dist = random.normal(loc=1, scale=2, size=(2,3))\n",
    "print(dist)"
   ]
  },
  {
   "cell_type": "code",
   "execution_count": 91,
   "metadata": {},
   "outputs": [
    {
     "name": "stderr",
     "output_type": "stream",
     "text": [
      "C:\\ProgramData\\Anaconda3\\lib\\site-packages\\seaborn\\distributions.py:2619: FutureWarning: `distplot` is a deprecated function and will be removed in a future version. Please adapt your code to use either `displot` (a figure-level function with similar flexibility) or `histplot` (an axes-level function for histograms).\n",
      "  warnings.warn(msg, FutureWarning)\n"
     ]
    },
    {
     "data": {
      "image/png": "[encoded data removed]",
      "text/plain": [
       "<Figure size 432x288 with 1 Axes>"
      ]
     },
     "metadata": {
      "needs_background": "light"
     },
     "output_type": "display_data"
    }
   ],
   "source": [
    "sns.distplot(random.normal(size=100))\n",
    "plt.show()"
   ]
  },
  {
   "cell_type": "code",
   "execution_count": 92,
   "metadata": {},
   "outputs": [
    {
     "name": "stdout",
     "output_type": "stream",
     "text": [
      "[5 4 3 5 7 7 5 3 8 3]\n"
     ]
    }
   ],
   "source": [
    "#Distribucion binomial clasificada como exito o fracaso\n",
    "binomial = random.binomial(n=10, p=0.5, size=10)\n",
    "print(binomial)"
   ]
  },
  {
   "cell_type": "code",
   "execution_count": 93,
   "metadata": {},
   "outputs": [
    {
     "name": "stderr",
     "output_type": "stream",
     "text": [
      "C:\\ProgramData\\Anaconda3\\lib\\site-packages\\seaborn\\distributions.py:2619: FutureWarning: `distplot` is a deprecated function and will be removed in a future version. Please adapt your code to use either `displot` (a figure-level function with similar flexibility) or `histplot` (an axes-level function for histograms).\n",
      "  warnings.warn(msg, FutureWarning)\n"
     ]
    },
    {
     "data": {
      "image/png": "[encoded data removed]",
      "text/plain": [
       "<Figure size 432x288 with 1 Axes>"
      ]
     },
     "metadata": {
      "needs_background": "light"
     },
     "output_type": "display_data"
    }
   ],
   "source": [
    "sns.distplot(random.binomial(n=10, p=0.5, size=10))\n",
    "plt.show()"
   ]
  },
  {
   "cell_type": "code",
   "execution_count": 103,
   "metadata": {},
   "outputs": [
    {
     "name": "stderr",
     "output_type": "stream",
     "text": [
      "C:\\ProgramData\\Anaconda3\\lib\\site-packages\\seaborn\\distributions.py:2619: FutureWarning: `distplot` is a deprecated function and will be removed in a future version. Please adapt your code to use either `displot` (a figure-level function with similar flexibility) or `kdeplot` (an axes-level function for kernel density plots).\n",
      "  warnings.warn(msg, FutureWarning)\n",
      "C:\\ProgramData\\Anaconda3\\lib\\site-packages\\seaborn\\distributions.py:2619: FutureWarning: `distplot` is a deprecated function and will be removed in a future version. Please adapt your code to use either `displot` (a figure-level function with similar flexibility) or `kdeplot` (an axes-level function for kernel density plots).\n",
      "  warnings.warn(msg, FutureWarning)\n"
     ]
    },
    {
     "data": {
      "image/png": "[encoded data removed]",
      "text/plain": [
       "<Figure size 432x288 with 1 Axes>"
      ]
     },
     "metadata": {
      "needs_background": "light"
     },
     "output_type": "display_data"
    }
   ],
   "source": [
    "sns.distplot(random.normal(loc=50, scale=5, size=1000), hist=False, label=\"normal\")\n",
    "sns.distplot(random.binomial(n=100, p=0.5,size=1000), hist=False, label=\"binomial\")\n",
    "plt.show()"
   ]
  },
  {
   "cell_type": "code",
   "execution_count": 51,
   "metadata": {},
   "outputs": [
    {
     "name": "stdout",
     "output_type": "stream",
     "text": [
      "[[ 4.77920434  0.93720258  5.83385617]\n",
      " [ 1.54019572 -1.85550666  5.87455883]]\n"
     ]
    }
   ],
   "source": [
    "#Distrubiucion logistica, nos sirve para describir el crecimiento\n",
    "#Es muy utilizada en manchine learning: regesion logsitisca, RNA,..\n",
    "#random.logistic(loc, scale, size)\n",
    "#loc: (default es 0)es el promedio, el pico de la curva\n",
    "#scale: (default es 1) es la desviacion estandar\n",
    "#size: el tamaño del arreglo en dimensiones\n",
    "log = random.logistic(loc=1, scale=2, size=(2,3))\n",
    "print(log)"
   ]
  },
  {
   "cell_type": "code",
   "execution_count": 52,
   "metadata": {},
   "outputs": [
    {
     "name": "stderr",
     "output_type": "stream",
     "text": [
      "C:\\ProgramData\\Anaconda3\\lib\\site-packages\\seaborn\\distributions.py:2619: FutureWarning: `distplot` is a deprecated function and will be removed in a future version. Please adapt your code to use either `displot` (a figure-level function with similar flexibility) or `kdeplot` (an axes-level function for kernel density plots).\n",
      "  warnings.warn(msg, FutureWarning)\n"
     ]
    },
    {
     "data": {
      "image/png": "[encoded data removed]",
      "text/plain": [
       "<Figure size 432x288 with 1 Axes>"
      ]
     },
     "metadata": {
      "needs_background": "light"
     },
     "output_type": "display_data"
    }
   ],
   "source": [
    "sns.distplot(random.logistic(size=100), hist=False)\n",
    "plt.show()"
   ]
  },
  {
   "cell_type": "code",
   "execution_count": 53,
   "metadata": {},
   "outputs": [
    {
     "name": "stderr",
     "output_type": "stream",
     "text": [
      "C:\\ProgramData\\Anaconda3\\lib\\site-packages\\seaborn\\distributions.py:2619: FutureWarning: `distplot` is a deprecated function and will be removed in a future version. Please adapt your code to use either `displot` (a figure-level function with similar flexibility) or `kdeplot` (an axes-level function for kernel density plots).\n",
      "  warnings.warn(msg, FutureWarning)\n",
      "C:\\ProgramData\\Anaconda3\\lib\\site-packages\\seaborn\\distributions.py:2619: FutureWarning: `distplot` is a deprecated function and will be removed in a future version. Please adapt your code to use either `displot` (a figure-level function with similar flexibility) or `kdeplot` (an axes-level function for kernel density plots).\n",
      "  warnings.warn(msg, FutureWarning)\n"
     ]
    },
    {
     "data": {
      "image/png": "[encoded data removed]",
      "text/plain": [
       "<Figure size 432x288 with 1 Axes>"
      ]
     },
     "metadata": {
      "needs_background": "light"
     },
     "output_type": "display_data"
    }
   ],
   "source": [
    "#La diferencia entre las distribuciones logistica y normal\n",
    "#Ambas son casi iguales pero la logistica\n",
    "#representa los eventos más alejados de la media (mas curva en los extremos)\n",
    "sns.distplot(random.normal(scale=2, size=1000), hist=False, label='normal')\n",
    "sns.distplot(random.logistic(size=1000), hist=False, label='logistic')\n",
    "plt.show()"
   ]
  },
  {
   "cell_type": "code",
   "execution_count": 54,
   "metadata": {},
   "outputs": [
    {
     "name": "stdout",
     "output_type": "stream",
     "text": [
      "[[2.94615511 0.5434473  0.40472378]\n",
      " [1.7781988  7.47852561 0.56352912]]\n"
     ]
    }
   ],
   "source": [
    "#Distribucion exponecial: describe el tiempo del proximo evento(extio o fracaso)\n",
    "#random.exponetial(scale, size)\n",
    "#scale: (default es 1.0)inversa a la tasa\n",
    "#size: el tamaño del arreglo en dimensiones\n",
    "expo = random.exponential(scale=2, size=(2,3))\n",
    "print(expo)"
   ]
  },
  {
   "cell_type": "code",
   "execution_count": 55,
   "metadata": {},
   "outputs": [
    {
     "name": "stderr",
     "output_type": "stream",
     "text": [
      "C:\\ProgramData\\Anaconda3\\lib\\site-packages\\seaborn\\distributions.py:2619: FutureWarning: `distplot` is a deprecated function and will be removed in a future version. Please adapt your code to use either `displot` (a figure-level function with similar flexibility) or `kdeplot` (an axes-level function for kernel density plots).\n",
      "  warnings.warn(msg, FutureWarning)\n"
     ]
    },
    {
     "data": {
      "image/png": "[encoded data removed]",
      "text/plain": [
       "<Figure size 432x288 with 1 Axes>"
      ]
     },
     "metadata": {
      "needs_background": "light"
     },
     "output_type": "display_data"
    }
   ],
   "source": [
    "sns.distplot(random.exponential(size=1000),hist=False)\n",
    "plt.show()"
   ]
  },
  {
   "cell_type": "code",
   "execution_count": 106,
   "metadata": {},
   "outputs": [
    {
     "name": "stdout",
     "output_type": "stream",
     "text": [
      "[1 1 4 5 0 3 2 2 1 1]\n"
     ]
    }
   ],
   "source": [
    "#Difrencias entre las distribuciones Poisson y Exponencial\n",
    "#Poisson es el numero de ocurrencias de un evento en periodo de tiempo\n",
    "#Exponencial es el tiempo entre esos eventos\n",
    "poisson = random.poisson(lam=2, size=10)\n",
    "print(poisson)"
   ]
  },
  {
   "cell_type": "code",
   "execution_count": 108,
   "metadata": {},
   "outputs": [
    {
     "name": "stderr",
     "output_type": "stream",
     "text": [
      "C:\\ProgramData\\Anaconda3\\lib\\site-packages\\seaborn\\distributions.py:2619: FutureWarning: `distplot` is a deprecated function and will be removed in a future version. Please adapt your code to use either `displot` (a figure-level function with similar flexibility) or `histplot` (an axes-level function for histograms).\n",
      "  warnings.warn(msg, FutureWarning)\n"
     ]
    },
    {
     "data": {
      "image/png": "[encoded data removed]",
      "text/plain": [
       "<Figure size 432x288 with 1 Axes>"
      ]
     },
     "metadata": {
      "needs_background": "light"
     },
     "output_type": "display_data"
    }
   ],
   "source": [
    "sns.distplot(random.poisson(lam=2, size=1000),kde = True)\n",
    "plt.show()"
   ]
  },
  {
   "cell_type": "code",
   "execution_count": 120,
   "metadata": {},
   "outputs": [
    {
     "data": {
      "image/png": "[encoded data removed]",
      "text/plain": [
       "<Figure size 432x288 with 1 Axes>"
      ]
     },
     "metadata": {
      "needs_background": "light"
     },
     "output_type": "display_data"
    }
   ],
   "source": [
    "sns.histplot(random.normal(loc=50, scale=7, size=1000))\n",
    "sns.histplot(random.poisson(lam=50, size=1000),kde=True)\n",
    "plt.legend(['Normal','Poisson'])\n",
    "plt.show()"
   ]
  },
  {
   "cell_type": "code",
   "execution_count": 57,
   "metadata": {},
   "outputs": [
    {
     "name": "stdout",
     "output_type": "stream",
     "text": [
      "[[6.70086055 3.44452204 0.256303  ]\n",
      " [1.82090913 8.6083631  2.13193633]]\n"
     ]
    }
   ],
   "source": [
    "#Distribucion Chi cuadrada\n",
    "#Es utilizada para verificar errores en mediciones\n",
    "#random.chisquare(df, size)\n",
    "#df: grados de libertad\n",
    "#size: el tamaño del arreglo en dimensiones\n",
    "chi = random.chisquare(df=2, size=(2,3))\n",
    "print(chi)"
   ]
  },
  {
   "cell_type": "code",
   "execution_count": 58,
   "metadata": {},
   "outputs": [
    {
     "name": "stderr",
     "output_type": "stream",
     "text": [
      "C:\\ProgramData\\Anaconda3\\lib\\site-packages\\seaborn\\distributions.py:2619: FutureWarning: `distplot` is a deprecated function and will be removed in a future version. Please adapt your code to use either `displot` (a figure-level function with similar flexibility) or `kdeplot` (an axes-level function for kernel density plots).\n",
      "  warnings.warn(msg, FutureWarning)\n"
     ]
    },
    {
     "data": {
      "image/png": "[encoded data removed]",
      "text/plain": [
       "<Figure size 432x288 with 1 Axes>"
      ]
     },
     "metadata": {
      "needs_background": "light"
     },
     "output_type": "display_data"
    }
   ],
   "source": [
    "sns.distplot(random.chisquare(df=1, size=1000), hist=False)\n",
    "plt.show()"
   ]
  },
  {
   "cell_type": "code",
   "execution_count": 59,
   "metadata": {},
   "outputs": [
    {
     "name": "stdout",
     "output_type": "stream",
     "text": [
      "[[0.45791818 2.75437022 1.37444715]\n",
      " [1.18807058 2.10566961 1.81598231]]\n"
     ]
    }
   ],
   "source": [
    "#Distribucion Rayleigh es utilizada para el procesamiento de señales\n",
    "#es similar a la anterior\n",
    "#random.rayleigh(scale, size)\n",
    "#scale: (default 1.0) desviacion estandar\n",
    "#size : el tamaño del arreglo en dimensiones\n",
    "ray = random.rayleigh(scale=2, size=(2,3))\n",
    "print(ray)"
   ]
  },
  {
   "cell_type": "code",
   "execution_count": 60,
   "metadata": {},
   "outputs": [
    {
     "name": "stderr",
     "output_type": "stream",
     "text": [
      "C:\\ProgramData\\Anaconda3\\lib\\site-packages\\seaborn\\distributions.py:2619: FutureWarning: `distplot` is a deprecated function and will be removed in a future version. Please adapt your code to use either `displot` (a figure-level function with similar flexibility) or `kdeplot` (an axes-level function for kernel density plots).\n",
      "  warnings.warn(msg, FutureWarning)\n"
     ]
    },
    {
     "data": {
      "image/png": "[encoded data removed]",
      "text/plain": [
       "<Figure size 432x288 with 1 Axes>"
      ]
     },
     "metadata": {
      "needs_background": "light"
     },
     "output_type": "display_data"
    }
   ],
   "source": [
    "sns.distplot(random.rayleigh(size=1000), hist=False)\n",
    "plt.show()"
   ]
  },
  {
   "cell_type": "code",
   "execution_count": 61,
   "metadata": {},
   "outputs": [
    {
     "name": "stdout",
     "output_type": "stream",
     "text": [
      "[[19.76302119  6.11603148  5.01095947]\n",
      " [ 0.56667603  2.14386555  8.04380332]\n",
      " [ 0.149953    1.66940533  2.00234811]]\n"
     ]
    }
   ],
   "source": [
    "#Distribucion de Pareto\n",
    "#Ley de Pareto: 80-20 (80 gancias 20% peridas)\n",
    "#random.pareto(a, size)\n",
    "#a: modelado (shape) ???\n",
    "#size : shape del arreglo\n",
    "par = random.pareto(a=1, size=(3, 3))\n",
    "print(par)"
   ]
  },
  {
   "cell_type": "code",
   "execution_count": 62,
   "metadata": {},
   "outputs": [
    {
     "name": "stderr",
     "output_type": "stream",
     "text": [
      "C:\\ProgramData\\Anaconda3\\lib\\site-packages\\seaborn\\distributions.py:2619: FutureWarning: `distplot` is a deprecated function and will be removed in a future version. Please adapt your code to use either `displot` (a figure-level function with similar flexibility) or `histplot` (an axes-level function for histograms).\n",
      "  warnings.warn(msg, FutureWarning)\n"
     ]
    },
    {
     "data": {
      "image/png": "[encoded data removed]",
      "text/plain": [
       "<Figure size 432x288 with 1 Axes>"
      ]
     },
     "metadata": {
      "needs_background": "light"
     },
     "output_type": "display_data"
    }
   ],
   "source": [
    "sns.distplot(random.pareto(a=2, size=1000),kde=False)\n",
    "plt.show()"
   ]
  },
  {
   "cell_type": "code",
   "execution_count": 63,
   "metadata": {},
   "outputs": [
    {
     "name": "stdout",
     "output_type": "stream",
     "text": [
      "[[1 1 1]\n",
      " [1 1 1]]\n"
     ]
    }
   ],
   "source": [
    "#Distribucion Zipf: se genera datos en base a la ley Zipf\n",
    "#Ley Zipf: Es conocida como una ley de potencias que se basa en la frecuencia\n",
    "#Ejemplo: Se utilizda para contar la frecuencias de palabras\n",
    "#random.zipf(a, size)\n",
    "z = random.zipf(a=5, size=(2,3))\n",
    "print(z)"
   ]
  },
  {
   "cell_type": "code",
   "execution_count": 64,
   "metadata": {},
   "outputs": [
    {
     "data": {
      "image/png": "[encoded data removed]",
      "text/plain": [
       "<Figure size 432x288 with 1 Axes>"
      ]
     },
     "metadata": {
      "needs_background": "light"
     },
     "output_type": "display_data"
    }
   ],
   "source": [
    "z= random.zipf(a=2, size=1000)\n",
    "sns.distplot(z[z<20], kde=False)\n",
    "plt.show()"
   ]
  },
  {
   "cell_type": "code",
   "execution_count": 65,
   "metadata": {},
   "outputs": [],
   "source": [
    "#Funciones universales, funciones de Numpy que trabajan sobre objetos ndarray\n",
    "#Estas funciones es una vectorizacion de arreglos por lo tanto más rapido de iterar\n",
    "# Vectorizacion: optimiza las operaciones utilizando las capacidades del procesador(es)\n",
    "#Reciben tres parametros: \n",
    "#where: arreglo booleano o una condición\n",
    "#dtype: define el tipo de los elementos\n",
    "#out: arreglo de salida"
   ]
  },
  {
   "cell_type": "code",
   "execution_count": 66,
   "metadata": {},
   "outputs": [
    {
     "name": "stdout",
     "output_type": "stream",
     "text": [
      "[5, 7, 9]\n"
     ]
    }
   ],
   "source": [
    "#sin funciones universales se utiliza zip\n",
    "a = [1, 2, 3]\n",
    "b = [4, 5, 6]\n",
    "c = []\n",
    "for i,j in zip(a, b):\n",
    "    c.append(i+j)\n",
    "print(c)"
   ]
  },
  {
   "cell_type": "code",
   "execution_count": 67,
   "metadata": {},
   "outputs": [
    {
     "name": "stdout",
     "output_type": "stream",
     "text": [
      "[5 7 9]\n"
     ]
    }
   ],
   "source": [
    "#Con fuciones univerales unfunc\n",
    "import numpy as np\n",
    "a = [1, 2, 3]\n",
    "b = [4, 5, 6]\n",
    "c = np.add(a, b) #.add hace una suma\n",
    "print(c)"
   ]
  },
  {
   "cell_type": "code",
   "execution_count": 68,
   "metadata": {},
   "outputs": [
    {
     "data": {
      "text/plain": [
       "numpy.ndarray"
      ]
     },
     "execution_count": 68,
     "metadata": {},
     "output_type": "execute_result"
    }
   ],
   "source": [
    "type(c)"
   ]
  },
  {
   "cell_type": "code",
   "execution_count": 69,
   "metadata": {},
   "outputs": [
    {
     "name": "stdout",
     "output_type": "stream",
     "text": [
      "[5 7 9]\n"
     ]
    }
   ],
   "source": [
    "#Creacion de funciones universales con frompyfunc()\n",
    "#Este metodo recibe tres parametros\n",
    "#function: nombre de la funcion\n",
    "#inputs: numeros de arreglos de entrada\n",
    "#outputs: numeros de arreglos de salida\n",
    "def funcion_agrega(a, b):\n",
    "    return a + b\n",
    "\n",
    "funcion_agrega = np.frompyfunc(funcion_agrega, 2, 1)\n",
    "print(funcion_agrega([1, 2, 3], [4,5,6]))"
   ]
  },
  {
   "cell_type": "code",
   "execution_count": 70,
   "metadata": {},
   "outputs": [
    {
     "name": "stdout",
     "output_type": "stream",
     "text": [
      "[5 7 9]\n"
     ]
    }
   ],
   "source": [
    "a = np.array([1, 2, 3])\n",
    "b = np.array([4, 5, 6])\n",
    "#Suma\n",
    "c = np.add(a, b)\n",
    "print(c)"
   ]
  },
  {
   "cell_type": "code",
   "execution_count": 71,
   "metadata": {},
   "outputs": [
    {
     "name": "stdout",
     "output_type": "stream",
     "text": [
      "[-3 -3 -3]\n"
     ]
    }
   ],
   "source": [
    "#Resta\n",
    "c = np.subtract(a, b)\n",
    "print(c)"
   ]
  },
  {
   "cell_type": "code",
   "execution_count": 72,
   "metadata": {},
   "outputs": [
    {
     "name": "stdout",
     "output_type": "stream",
     "text": [
      "[ 4 10 18]\n"
     ]
    }
   ],
   "source": [
    "#Multiplicacion\n",
    "c = np.multiply(a, b)\n",
    "print(c)"
   ]
  },
  {
   "cell_type": "code",
   "execution_count": 73,
   "metadata": {},
   "outputs": [
    {
     "name": "stdout",
     "output_type": "stream",
     "text": [
      "[0.25 0.4  0.5 ]\n"
     ]
    }
   ],
   "source": [
    "#Division\n",
    "c = np.divide(a, b) #1/4 , 2/5, 3/6\n",
    "print(c)"
   ]
  },
  {
   "cell_type": "code",
   "execution_count": 74,
   "metadata": {},
   "outputs": [
    {
     "name": "stdout",
     "output_type": "stream",
     "text": [
      "[  1  32 729]\n"
     ]
    }
   ],
   "source": [
    "#potencia\n",
    "c = np.power(a, b)\n",
    "print(c)"
   ]
  },
  {
   "cell_type": "code",
   "execution_count": 75,
   "metadata": {},
   "outputs": [
    {
     "name": "stdout",
     "output_type": "stream",
     "text": [
      "trunc:  [-1.  2. -3.]\n"
     ]
    }
   ],
   "source": [
    "#Redondeo: trunc y fix son iguales o muy parecidas\n",
    "redondeo = np.trunc([-1.1548, 2.2345, -3.0004])\n",
    "print(\"trunc: \", redondeo)"
   ]
  },
  {
   "cell_type": "code",
   "execution_count": 76,
   "metadata": {},
   "outputs": [
    {
     "name": "stdout",
     "output_type": "stream",
     "text": [
      "fix:  [-1.  2. -3.]\n"
     ]
    }
   ],
   "source": [
    "redondeo = np.fix([-1.1548, 2.2345, -3.0004])\n",
    "print(\"fix: \", redondeo)"
   ]
  },
  {
   "cell_type": "code",
   "execution_count": 77,
   "metadata": {},
   "outputs": [
    {
     "name": "stdout",
     "output_type": "stream",
     "text": [
      "-1.15\n"
     ]
    }
   ],
   "source": [
    "#arround: el segundo parametro es la cantidad de decimales\n",
    "redondeo = np.around (-1.1548, 2)\n",
    "print(redondeo)"
   ]
  },
  {
   "cell_type": "code",
   "execution_count": 78,
   "metadata": {},
   "outputs": [
    {
     "name": "stdout",
     "output_type": "stream",
     "text": [
      "floor :  [-2.  2. -4.]\n"
     ]
    }
   ],
   "source": [
    "#floor\n",
    "redondeo = np.floor([-1.1548, 2.2345, -3.0004])\n",
    "print(\"floor : \", redondeo)"
   ]
  },
  {
   "cell_type": "code",
   "execution_count": 79,
   "metadata": {},
   "outputs": [
    {
     "name": "stdout",
     "output_type": "stream",
     "text": [
      "ceil:  [-1.  3. -3.]\n"
     ]
    }
   ],
   "source": [
    "#ceil\n",
    "redondeo = np.ceil([-1.1548, 2.2345, -3.0004])\n",
    "print(\"ceil: \", redondeo)"
   ]
  },
  {
   "cell_type": "code",
   "execution_count": 80,
   "metadata": {},
   "outputs": [
    {
     "name": "stdout",
     "output_type": "stream",
     "text": [
      "21\n"
     ]
    }
   ],
   "source": [
    "a = np.array([1, 2, 3])\n",
    "b = np.array([4, 5, 6])\n",
    "c = np.sum([a, b]) #lista como parametro, es diferente a add\n",
    "print(c)"
   ]
  },
  {
   "cell_type": "code",
   "execution_count": 81,
   "metadata": {},
   "outputs": [
    {
     "name": "stdout",
     "output_type": "stream",
     "text": [
      "[ 6 15]\n"
     ]
    }
   ],
   "source": [
    "#axis suma los numeros de cada arreglo\n",
    "c = np.sum([a, b], axis=1)\n",
    "print(c)"
   ]
  },
  {
   "cell_type": "code",
   "execution_count": 82,
   "metadata": {},
   "outputs": [
    {
     "name": "stdout",
     "output_type": "stream",
     "text": [
      "[1 3 6]\n",
      "[ 4  9 15]\n"
     ]
    }
   ],
   "source": [
    "#Suma acumulativa\n",
    "a = np.array([1, 2, 3])\n",
    "b = np.array([4, 5, 6])\n",
    "c = np.cumsum(a)\n",
    "d = np.cumsum(b)\n",
    "print(c)\n",
    "print(d)"
   ]
  },
  {
   "cell_type": "code",
   "execution_count": 83,
   "metadata": {},
   "outputs": [
    {
     "name": "stdout",
     "output_type": "stream",
     "text": [
      "6\n",
      "120\n",
      "720\n"
     ]
    }
   ],
   "source": [
    "#Producto\n",
    "c = np.prod(a) #1, 2, 3\n",
    "print(c)\n",
    "d = np.prod(b) #4, 5, 6\n",
    "print(d)\n",
    "c = np.prod([a, b])\n",
    "print(c)"
   ]
  },
  {
   "cell_type": "code",
   "execution_count": 84,
   "metadata": {},
   "outputs": [
    {
     "name": "stdout",
     "output_type": "stream",
     "text": [
      "[1 1]\n"
     ]
    }
   ],
   "source": [
    "#diff\n",
    "a = np.array([1, 2, 3])\n",
    "c = np.diff(a) #2-1= 1 , 3-2= 1\n",
    "print(c)\n"
   ]
  },
  {
   "cell_type": "code",
   "execution_count": 85,
   "metadata": {},
   "outputs": [
    {
     "name": "stdout",
     "output_type": "stream",
     "text": [
      "12\n"
     ]
    }
   ],
   "source": [
    "#Minimo comun multiple\n",
    "x = 4\n",
    "y = 6\n",
    "print(np.lcm(x,y)) #6*2= 12, 4*3=12"
   ]
  },
  {
   "cell_type": "code",
   "execution_count": 86,
   "metadata": {},
   "outputs": [
    {
     "name": "stdout",
     "output_type": "stream",
     "text": [
      "2\n"
     ]
    }
   ],
   "source": [
    "#Maximo comun denominador\n",
    "x=4\n",
    "y=6\n",
    "print(np.gcd(x,y)) #4/2= 2, 6/2 = 3"
   ]
  },
  {
   "cell_type": "code",
   "execution_count": 87,
   "metadata": {},
   "outputs": [
    {
     "name": "stdout",
     "output_type": "stream",
     "text": [
      "Sin:  1.0\n",
      "Conversion grados a radianes :  [0.61086524 0.64577182 0.6981317 ]\n",
      "Conversion radianes a grados :  [35. 37. 40.]\n",
      "Hipotenusa :  10.198039027185569\n"
     ]
    }
   ],
   "source": [
    "#Funciones trigonometricas : sin, cos, tan, arcsin, arccos, arctan\n",
    "print(\"Sin: \", np.sin(np.pi/2))\n",
    "#Grados a radianes: Pi/180.0 * grados\n",
    "grados = np.array([35, 37, 40])\n",
    "radianes = np.deg2rad(grados)\n",
    "print(\"Conversion grados a radianes : \", radianes)\n",
    "grados = np.rad2deg(radianes)\n",
    "print(\"Conversion radianes a grados : \", grados)\n",
    "base = 10\n",
    "cateto = 2\n",
    "print(\"Hipotenusa : \", np.hypot(base, cateto))"
   ]
  },
  {
   "cell_type": "code",
   "execution_count": 88,
   "metadata": {},
   "outputs": [],
   "source": [
    "#Numpy\n",
    "#numpy.org\n",
    "#Guia del usuario\n",
    "#https://numpy.org/doc/stable/numpy-user.pdf"
   ]
  }
 ],
 "metadata": {
  "kernelspec": {
   "display_name": "Python 3 (ipykernel)",
   "language": "python",
   "name": "python3"
  },
  "language_info": {
   "codemirror_mode": {
    "name": "ipython",
    "version": 3
   },
   "file_extension": ".py",
   "mimetype": "text/x-python",
   "name": "python",
   "nbconvert_exporter": "python",
   "pygments_lexer": "ipython3",
   "version": "3.8.12"
  }
 },
 "nbformat": 4,
 "nbformat_minor": 4
}
