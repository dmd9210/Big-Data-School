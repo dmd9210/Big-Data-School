{
 "cells": [
  {
   "cell_type": "code",
   "execution_count": 1,
   "metadata": {},
   "outputs": [
    {
     "name": "stdout",
     "output_type": "stream",
     "text": [
      "<div class=\"tombstone-container\">\n",
      " <p class=\"period-name\">\n",
      "  This\n",
      "  <br/>\n",
      "  Afternoon\n",
      " </p>\n",
      " <p>\n",
      "  <img alt=\"This Afternoon: Partly sunny, with a high near 52. Light and variable wind becoming west around 5 mph. \" class=\"forecast-icon\" src=\"newimages/medium/bkn.png\" title=\"This Afternoon: Partly sunny, with a high near 52. Light and variable wind becoming west around 5 mph. \"/>\n",
      " </p>\n",
      " <p class=\"short-desc\">\n",
      "  Partly Sunny\n",
      " </p>\n",
      " <p class=\"temp temp-high\">\n",
      "  High: 52 °F\n",
      " </p>\n",
      "</div>\n"
     ]
    }
   ],
   "source": [
    "#Pagina de clima\n",
    "import requests \n",
    "from bs4 import BeautifulSoup\n",
    "pagina = requests.get(\"https://forecast.weather.gov/MapClick.php?lat=42.3165&lon=-85.18\")\n",
    "soup = BeautifulSoup(pagina.content, \"html.parser\") #html5lib\n",
    "dias = soup.find(id=\"seven-day-forecast\")\n",
    "forecast_items = dias.find_all(class_=\"tombstone-container\")\n",
    "actual = forecast_items[0]\n",
    "print(actual.prettify())"
   ]
  },
  {
   "cell_type": "code",
   "execution_count": 2,
   "metadata": {},
   "outputs": [
    {
     "data": {
      "text/plain": [
       "[<div class=\"tombstone-container\">\n",
       " <p class=\"period-name\">This<br/>Afternoon</p>\n",
       " <p><img alt=\"This Afternoon: Partly sunny, with a high near 52. Light and variable wind becoming west around 5 mph. \" class=\"forecast-icon\" src=\"newimages/medium/bkn.png\" title=\"This Afternoon: Partly sunny, with a high near 52. Light and variable wind becoming west around 5 mph. \"/></p><p class=\"short-desc\">Partly Sunny</p><p class=\"temp temp-high\">High: 52 °F</p></div>,\n",
       " <div class=\"tombstone-container\">\n",
       " <p class=\"period-name\">Tonight<br/><br/></p>\n",
       " <p><img alt=\"Tonight: Partly cloudy, with a low around 34. North northwest wind around 6 mph becoming calm  after midnight. \" class=\"forecast-icon\" src=\"newimages/medium/nsct.png\" title=\"Tonight: Partly cloudy, with a low around 34. North northwest wind around 6 mph becoming calm  after midnight. \"/></p><p class=\"short-desc\">Partly Cloudy</p><p class=\"temp temp-low\">Low: 34 °F</p></div>,\n",
       " <div class=\"tombstone-container\">\n",
       " <p class=\"period-name\">Wednesday<br/><br/></p>\n",
       " <p><img alt=\"Wednesday: Mostly sunny, with a high near 63. South wind 5 to 13 mph, with gusts as high as 21 mph. \" class=\"forecast-icon\" src=\"newimages/medium/sct.png\" title=\"Wednesday: Mostly sunny, with a high near 63. South wind 5 to 13 mph, with gusts as high as 21 mph. \"/></p><p class=\"short-desc\">Mostly Sunny</p><p class=\"temp temp-high\">High: 63 °F</p></div>,\n",
       " <div class=\"tombstone-container\">\n",
       " <p class=\"period-name\">Wednesday<br/>Night</p>\n",
       " <p><img alt=\"Wednesday Night: Partly cloudy, with a low around 45. South southwest wind around 6 mph. \" class=\"forecast-icon\" src=\"newimages/medium/nsct.png\" title=\"Wednesday Night: Partly cloudy, with a low around 45. South southwest wind around 6 mph. \"/></p><p class=\"short-desc\">Partly Cloudy</p><p class=\"temp temp-low\">Low: 45 °F</p></div>,\n",
       " <div class=\"tombstone-container\">\n",
       " <p class=\"period-name\">Thursday<br/><br/></p>\n",
       " <p><img alt=\"Thursday: A 20 percent chance of showers after 2pm.  Mostly cloudy, with a high near 62. South southwest wind 5 to 9 mph, with gusts as high as 20 mph. \" class=\"forecast-icon\" src=\"DualImage.php?i=bkn&amp;j=shra&amp;jp=20\" title=\"Thursday: A 20 percent chance of showers after 2pm.  Mostly cloudy, with a high near 62. South southwest wind 5 to 9 mph, with gusts as high as 20 mph. \"/></p><p class=\"short-desc\">Partly Sunny<br/>then Slight<br/>Chance<br/>Showers</p><p class=\"temp temp-high\">High: 62 °F</p></div>,\n",
       " <div class=\"tombstone-container\">\n",
       " <p class=\"period-name\">Thursday<br/>Night</p>\n",
       " <p><img alt=\"Thursday Night: A 30 percent chance of showers after 2am.  Mostly cloudy, with a low around 41.\" class=\"forecast-icon\" src=\"DualImage.php?i=nbkn&amp;j=nshra&amp;jp=30\" title=\"Thursday Night: A 30 percent chance of showers after 2am.  Mostly cloudy, with a low around 41.\"/></p><p class=\"short-desc\">Mostly Cloudy<br/>then Chance<br/>Showers</p><p class=\"temp temp-low\">Low: 41 °F</p></div>,\n",
       " <div class=\"tombstone-container\">\n",
       " <p class=\"period-name\">Friday<br/><br/></p>\n",
       " <p><img alt=\"Friday: A 50 percent chance of showers.  Cloudy, with a high near 50.\" class=\"forecast-icon\" src=\"newimages/medium/shra50.png\" title=\"Friday: A 50 percent chance of showers.  Cloudy, with a high near 50.\"/></p><p class=\"short-desc\">Chance<br/>Showers</p><p class=\"temp temp-high\">High: 50 °F</p></div>,\n",
       " <div class=\"tombstone-container\">\n",
       " <p class=\"period-name\">Friday<br/>Night</p>\n",
       " <p><img alt=\"Friday Night: A chance of showers before 2am.  Mostly cloudy, with a low around 34.\" class=\"forecast-icon\" src=\"newimages/medium/nshra.png\" title=\"Friday Night: A chance of showers before 2am.  Mostly cloudy, with a low around 34.\"/></p><p class=\"short-desc\">Chance<br/>Showers</p><p class=\"temp temp-low\">Low: 34 °F</p></div>,\n",
       " <div class=\"tombstone-container\">\n",
       " <p class=\"period-name\">Saturday<br/><br/></p>\n",
       " <p><img alt=\"Saturday: Partly sunny, with a high near 49.\" class=\"forecast-icon\" src=\"newimages/medium/bkn.png\" title=\"Saturday: Partly sunny, with a high near 49.\"/></p><p class=\"short-desc\">Partly Sunny</p><p class=\"temp temp-high\">High: 49 °F</p></div>]"
      ]
     },
     "execution_count": 2,
     "metadata": {},
     "output_type": "execute_result"
    }
   ],
   "source": [
    "forecast_items\n",
    "#nombre del item: HOY\n",
    "#descripcion\n",
    "#Condicones\n",
    "#temperatura"
   ]
  },
  {
   "cell_type": "code",
   "execution_count": 3,
   "metadata": {},
   "outputs": [
    {
     "name": "stdout",
     "output_type": "stream",
     "text": [
      "ThisAfternoon\n",
      "Partly Sunny\n",
      "High: 52 °F\n"
     ]
    }
   ],
   "source": [
    "#extraccion de la información\n",
    "hoy = actual.find(class_=\"period-name\").get_text()\n",
    "descripcion = actual.find(class_=\"short-desc\").get_text()\n",
    "temp = actual.find(class_=\"temp\").get_text()\n",
    "print(hoy)\n",
    "print(descripcion)\n",
    "print(temp)"
   ]
  },
  {
   "cell_type": "code",
   "execution_count": 4,
   "metadata": {},
   "outputs": [
    {
     "name": "stdout",
     "output_type": "stream",
     "text": [
      "This Afternoon: Partly sunny, with a high near 52. Light and variable wind becoming west around 5 mph. \n"
     ]
    }
   ],
   "source": [
    "#Podemos traernos la descripcion de la imagen\n",
    "imagenHOY = actual.find(\"img\")\n",
    "describe = imagenHOY[\"title\"]\n",
    "print(describe)"
   ]
  },
  {
   "cell_type": "code",
   "execution_count": 5,
   "metadata": {},
   "outputs": [
    {
     "data": {
      "text/plain": [
       "bs4.element.Tag"
      ]
     },
     "execution_count": 5,
     "metadata": {},
     "output_type": "execute_result"
    }
   ],
   "source": [
    "type(imagenHOY)"
   ]
  },
  {
   "cell_type": "code",
   "execution_count": 6,
   "metadata": {},
   "outputs": [
    {
     "name": "stdout",
     "output_type": "stream",
     "text": [
      "<img alt=\"This Afternoon: Partly sunny, with a high near 52. Light and variable wind becoming west around 5 mph. \" class=\"forecast-icon\" src=\"newimages/medium/bkn.png\" title=\"This Afternoon: Partly sunny, with a high near 52. Light and variable wind becoming west around 5 mph. \"/>\n"
     ]
    }
   ],
   "source": [
    "print(imagenHOY)"
   ]
  },
  {
   "cell_type": "code",
   "execution_count": 7,
   "metadata": {},
   "outputs": [
    {
     "data": {
      "text/plain": [
       "['ThisAfternoon',\n",
       " 'Tonight',\n",
       " 'Wednesday',\n",
       " 'WednesdayNight',\n",
       " 'Thursday',\n",
       " 'ThursdayNight',\n",
       " 'Friday',\n",
       " 'FridayNight',\n",
       " 'Saturday']"
      ]
     },
     "execution_count": 7,
     "metadata": {},
     "output_type": "execute_result"
    }
   ],
   "source": [
    "tags = dias.select(\".tombstone-container .period-name\")\n",
    "semana = [i.get_text() for i in tags]\n",
    "semana"
   ]
  },
  {
   "cell_type": "code",
   "execution_count": 8,
   "metadata": {},
   "outputs": [
    {
     "data": {
      "text/plain": [
       "[<p class=\"period-name\">This<br/>Afternoon</p>,\n",
       " <p class=\"period-name\">Tonight<br/><br/></p>,\n",
       " <p class=\"period-name\">Wednesday<br/><br/></p>,\n",
       " <p class=\"period-name\">Wednesday<br/>Night</p>,\n",
       " <p class=\"period-name\">Thursday<br/><br/></p>,\n",
       " <p class=\"period-name\">Thursday<br/>Night</p>,\n",
       " <p class=\"period-name\">Friday<br/><br/></p>,\n",
       " <p class=\"period-name\">Friday<br/>Night</p>,\n",
       " <p class=\"period-name\">Saturday<br/><br/></p>]"
      ]
     },
     "execution_count": 8,
     "metadata": {},
     "output_type": "execute_result"
    }
   ],
   "source": [
    "tags"
   ]
  },
  {
   "cell_type": "code",
   "execution_count": 9,
   "metadata": {},
   "outputs": [
    {
     "name": "stdout",
     "output_type": "stream",
     "text": [
      "['Partly Sunny', 'Partly Cloudy', 'Mostly Sunny', 'Partly Cloudy', 'Partly Sunnythen SlightChanceShowers', 'Mostly Cloudythen ChanceShowers', 'ChanceShowers', 'ChanceShowers', 'Partly Sunny']\n",
      "['High: 52 °F', 'Low: 34 °F', 'High: 63 °F', 'Low: 45 °F', 'High: 62 °F', 'Low: 41 °F', 'High: 50 °F', 'Low: 34 °F', 'High: 49 °F']\n",
      "['This Afternoon: Partly sunny, with a high near 52. Light and variable wind becoming west around 5 mph. ', 'Tonight: Partly cloudy, with a low around 34. North northwest wind around 6 mph becoming calm  after midnight. ', 'Wednesday: Mostly sunny, with a high near 63. South wind 5 to 13 mph, with gusts as high as 21 mph. ', 'Wednesday Night: Partly cloudy, with a low around 45. South southwest wind around 6 mph. ', 'Thursday: A 20 percent chance of showers after 2pm.  Mostly cloudy, with a high near 62. South southwest wind 5 to 9 mph, with gusts as high as 20 mph. ', 'Thursday Night: A 30 percent chance of showers after 2am.  Mostly cloudy, with a low around 41.', 'Friday: A 50 percent chance of showers.  Cloudy, with a high near 50.', 'Friday Night: A chance of showers before 2am.  Mostly cloudy, with a low around 34.', 'Saturday: Partly sunny, with a high near 49.']\n"
     ]
    }
   ],
   "source": [
    "descripciones = [d.get_text() for d in dias.select(\".tombstone-container .short-desc\")]\n",
    "temps = [t.get_text() for t in dias.select(\".tombstone-container .temp\")]\n",
    "Ddescripciones = [d[\"title\"] for d in dias.select(\".tombstone-container img\")]\n",
    "print(descripciones)\n",
    "print(temps)\n",
    "print(Ddescripciones)"
   ]
  },
  {
   "cell_type": "code",
   "execution_count": 10,
   "metadata": {},
   "outputs": [
    {
     "data": {
      "text/html": [
       "<div>\n",
       "<style scoped>\n",
       "    .dataframe tbody tr th:only-of-type {\n",
       "        vertical-align: middle;\n",
       "    }\n",
       "\n",
       "    .dataframe tbody tr th {\n",
       "        vertical-align: top;\n",
       "    }\n",
       "\n",
       "    .dataframe thead th {\n",
       "        text-align: right;\n",
       "    }\n",
       "</style>\n",
       "<table border=\"1\" class=\"dataframe\">\n",
       "  <thead>\n",
       "    <tr style=\"text-align: right;\">\n",
       "      <th></th>\n",
       "      <th>Dia</th>\n",
       "      <th>Descripcion</th>\n",
       "      <th>Temperatura</th>\n",
       "      <th>Detalle</th>\n",
       "    </tr>\n",
       "  </thead>\n",
       "  <tbody>\n",
       "    <tr>\n",
       "      <th>0</th>\n",
       "      <td>ThisAfternoon</td>\n",
       "      <td>Partly Sunny</td>\n",
       "      <td>High: 52 °F</td>\n",
       "      <td>This Afternoon: Partly sunny, with a high near...</td>\n",
       "    </tr>\n",
       "    <tr>\n",
       "      <th>1</th>\n",
       "      <td>Tonight</td>\n",
       "      <td>Partly Cloudy</td>\n",
       "      <td>Low: 34 °F</td>\n",
       "      <td>Tonight: Partly cloudy, with a low around 34. ...</td>\n",
       "    </tr>\n",
       "    <tr>\n",
       "      <th>2</th>\n",
       "      <td>Wednesday</td>\n",
       "      <td>Mostly Sunny</td>\n",
       "      <td>High: 63 °F</td>\n",
       "      <td>Wednesday: Mostly sunny, with a high near 63. ...</td>\n",
       "    </tr>\n",
       "    <tr>\n",
       "      <th>3</th>\n",
       "      <td>WednesdayNight</td>\n",
       "      <td>Partly Cloudy</td>\n",
       "      <td>Low: 45 °F</td>\n",
       "      <td>Wednesday Night: Partly cloudy, with a low aro...</td>\n",
       "    </tr>\n",
       "    <tr>\n",
       "      <th>4</th>\n",
       "      <td>Thursday</td>\n",
       "      <td>Partly Sunnythen SlightChanceShowers</td>\n",
       "      <td>High: 62 °F</td>\n",
       "      <td>Thursday: A 20 percent chance of showers after...</td>\n",
       "    </tr>\n",
       "    <tr>\n",
       "      <th>5</th>\n",
       "      <td>ThursdayNight</td>\n",
       "      <td>Mostly Cloudythen ChanceShowers</td>\n",
       "      <td>Low: 41 °F</td>\n",
       "      <td>Thursday Night: A 30 percent chance of showers...</td>\n",
       "    </tr>\n",
       "    <tr>\n",
       "      <th>6</th>\n",
       "      <td>Friday</td>\n",
       "      <td>ChanceShowers</td>\n",
       "      <td>High: 50 °F</td>\n",
       "      <td>Friday: A 50 percent chance of showers.  Cloud...</td>\n",
       "    </tr>\n",
       "    <tr>\n",
       "      <th>7</th>\n",
       "      <td>FridayNight</td>\n",
       "      <td>ChanceShowers</td>\n",
       "      <td>Low: 34 °F</td>\n",
       "      <td>Friday Night: A chance of showers before 2am. ...</td>\n",
       "    </tr>\n",
       "    <tr>\n",
       "      <th>8</th>\n",
       "      <td>Saturday</td>\n",
       "      <td>Partly Sunny</td>\n",
       "      <td>High: 49 °F</td>\n",
       "      <td>Saturday: Partly sunny, with a high near 49.</td>\n",
       "    </tr>\n",
       "  </tbody>\n",
       "</table>\n",
       "</div>"
      ],
      "text/plain": [
       "              Dia                           Descripcion  Temperatura  \\\n",
       "0   ThisAfternoon                          Partly Sunny  High: 52 °F   \n",
       "1         Tonight                         Partly Cloudy   Low: 34 °F   \n",
       "2       Wednesday                          Mostly Sunny  High: 63 °F   \n",
       "3  WednesdayNight                         Partly Cloudy   Low: 45 °F   \n",
       "4        Thursday  Partly Sunnythen SlightChanceShowers  High: 62 °F   \n",
       "5   ThursdayNight       Mostly Cloudythen ChanceShowers   Low: 41 °F   \n",
       "6          Friday                         ChanceShowers  High: 50 °F   \n",
       "7     FridayNight                         ChanceShowers   Low: 34 °F   \n",
       "8        Saturday                          Partly Sunny  High: 49 °F   \n",
       "\n",
       "                                             Detalle  \n",
       "0  This Afternoon: Partly sunny, with a high near...  \n",
       "1  Tonight: Partly cloudy, with a low around 34. ...  \n",
       "2  Wednesday: Mostly sunny, with a high near 63. ...  \n",
       "3  Wednesday Night: Partly cloudy, with a low aro...  \n",
       "4  Thursday: A 20 percent chance of showers after...  \n",
       "5  Thursday Night: A 30 percent chance of showers...  \n",
       "6  Friday: A 50 percent chance of showers.  Cloud...  \n",
       "7  Friday Night: A chance of showers before 2am. ...  \n",
       "8       Saturday: Partly sunny, with a high near 49.  "
      ]
     },
     "execution_count": 10,
     "metadata": {},
     "output_type": "execute_result"
    }
   ],
   "source": [
    "#Utilizando Pandas\n",
    "import pandas as pd\n",
    "pronostico = pd.DataFrame({\"Dia\":semana, \"Descripcion\": descripciones, \"Temperatura\":temps, \"Detalle\":Ddescripciones})\n",
    "pronostico"
   ]
  },
  {
   "cell_type": "code",
   "execution_count": 11,
   "metadata": {},
   "outputs": [
    {
     "data": {
      "text/plain": [
       "0    52\n",
       "1    34\n",
       "2    63\n",
       "3    45\n",
       "4    62\n",
       "5    41\n",
       "6    50\n",
       "7    34\n",
       "8    49\n",
       "Name: temp_num, dtype: object"
      ]
     },
     "execution_count": 11,
     "metadata": {},
     "output_type": "execute_result"
    }
   ],
   "source": [
    "#Utilizando series\n",
    "solo_temp = pronostico[\"Temperatura\"].str.extract(\"(?P<temp_num>\\d+)\", expand =False)\n",
    "pronostico[\"temp_num\"] = solo_temp.astype('int') #convierto a entero\n",
    "solo_temp"
   ]
  },
  {
   "cell_type": "code",
   "execution_count": 12,
   "metadata": {},
   "outputs": [
    {
     "data": {
      "text/html": [
       "<div>\n",
       "<style scoped>\n",
       "    .dataframe tbody tr th:only-of-type {\n",
       "        vertical-align: middle;\n",
       "    }\n",
       "\n",
       "    .dataframe tbody tr th {\n",
       "        vertical-align: top;\n",
       "    }\n",
       "\n",
       "    .dataframe thead th {\n",
       "        text-align: right;\n",
       "    }\n",
       "</style>\n",
       "<table border=\"1\" class=\"dataframe\">\n",
       "  <thead>\n",
       "    <tr style=\"text-align: right;\">\n",
       "      <th></th>\n",
       "      <th>Dia</th>\n",
       "      <th>Descripcion</th>\n",
       "      <th>Temperatura</th>\n",
       "      <th>Detalle</th>\n",
       "      <th>temp_num</th>\n",
       "    </tr>\n",
       "  </thead>\n",
       "  <tbody>\n",
       "    <tr>\n",
       "      <th>0</th>\n",
       "      <td>ThisAfternoon</td>\n",
       "      <td>Partly Sunny</td>\n",
       "      <td>High: 52 °F</td>\n",
       "      <td>This Afternoon: Partly sunny, with a high near...</td>\n",
       "      <td>52</td>\n",
       "    </tr>\n",
       "    <tr>\n",
       "      <th>1</th>\n",
       "      <td>Tonight</td>\n",
       "      <td>Partly Cloudy</td>\n",
       "      <td>Low: 34 °F</td>\n",
       "      <td>Tonight: Partly cloudy, with a low around 34. ...</td>\n",
       "      <td>34</td>\n",
       "    </tr>\n",
       "    <tr>\n",
       "      <th>2</th>\n",
       "      <td>Wednesday</td>\n",
       "      <td>Mostly Sunny</td>\n",
       "      <td>High: 63 °F</td>\n",
       "      <td>Wednesday: Mostly sunny, with a high near 63. ...</td>\n",
       "      <td>63</td>\n",
       "    </tr>\n",
       "    <tr>\n",
       "      <th>3</th>\n",
       "      <td>WednesdayNight</td>\n",
       "      <td>Partly Cloudy</td>\n",
       "      <td>Low: 45 °F</td>\n",
       "      <td>Wednesday Night: Partly cloudy, with a low aro...</td>\n",
       "      <td>45</td>\n",
       "    </tr>\n",
       "    <tr>\n",
       "      <th>4</th>\n",
       "      <td>Thursday</td>\n",
       "      <td>Partly Sunnythen SlightChanceShowers</td>\n",
       "      <td>High: 62 °F</td>\n",
       "      <td>Thursday: A 20 percent chance of showers after...</td>\n",
       "      <td>62</td>\n",
       "    </tr>\n",
       "    <tr>\n",
       "      <th>5</th>\n",
       "      <td>ThursdayNight</td>\n",
       "      <td>Mostly Cloudythen ChanceShowers</td>\n",
       "      <td>Low: 41 °F</td>\n",
       "      <td>Thursday Night: A 30 percent chance of showers...</td>\n",
       "      <td>41</td>\n",
       "    </tr>\n",
       "    <tr>\n",
       "      <th>6</th>\n",
       "      <td>Friday</td>\n",
       "      <td>ChanceShowers</td>\n",
       "      <td>High: 50 °F</td>\n",
       "      <td>Friday: A 50 percent chance of showers.  Cloud...</td>\n",
       "      <td>50</td>\n",
       "    </tr>\n",
       "    <tr>\n",
       "      <th>7</th>\n",
       "      <td>FridayNight</td>\n",
       "      <td>ChanceShowers</td>\n",
       "      <td>Low: 34 °F</td>\n",
       "      <td>Friday Night: A chance of showers before 2am. ...</td>\n",
       "      <td>34</td>\n",
       "    </tr>\n",
       "    <tr>\n",
       "      <th>8</th>\n",
       "      <td>Saturday</td>\n",
       "      <td>Partly Sunny</td>\n",
       "      <td>High: 49 °F</td>\n",
       "      <td>Saturday: Partly sunny, with a high near 49.</td>\n",
       "      <td>49</td>\n",
       "    </tr>\n",
       "  </tbody>\n",
       "</table>\n",
       "</div>"
      ],
      "text/plain": [
       "              Dia                           Descripcion  Temperatura  \\\n",
       "0   ThisAfternoon                          Partly Sunny  High: 52 °F   \n",
       "1         Tonight                         Partly Cloudy   Low: 34 °F   \n",
       "2       Wednesday                          Mostly Sunny  High: 63 °F   \n",
       "3  WednesdayNight                         Partly Cloudy   Low: 45 °F   \n",
       "4        Thursday  Partly Sunnythen SlightChanceShowers  High: 62 °F   \n",
       "5   ThursdayNight       Mostly Cloudythen ChanceShowers   Low: 41 °F   \n",
       "6          Friday                         ChanceShowers  High: 50 °F   \n",
       "7     FridayNight                         ChanceShowers   Low: 34 °F   \n",
       "8        Saturday                          Partly Sunny  High: 49 °F   \n",
       "\n",
       "                                             Detalle  temp_num  \n",
       "0  This Afternoon: Partly sunny, with a high near...        52  \n",
       "1  Tonight: Partly cloudy, with a low around 34. ...        34  \n",
       "2  Wednesday: Mostly sunny, with a high near 63. ...        63  \n",
       "3  Wednesday Night: Partly cloudy, with a low aro...        45  \n",
       "4  Thursday: A 20 percent chance of showers after...        62  \n",
       "5  Thursday Night: A 30 percent chance of showers...        41  \n",
       "6  Friday: A 50 percent chance of showers.  Cloud...        50  \n",
       "7  Friday Night: A chance of showers before 2am. ...        34  \n",
       "8       Saturday: Partly sunny, with a high near 49.        49  "
      ]
     },
     "execution_count": 12,
     "metadata": {},
     "output_type": "execute_result"
    }
   ],
   "source": [
    "pronostico"
   ]
  },
  {
   "cell_type": "code",
   "execution_count": 13,
   "metadata": {},
   "outputs": [
    {
     "data": {
      "text/plain": [
       "47.77777777777778"
      ]
     },
     "execution_count": 13,
     "metadata": {},
     "output_type": "execute_result"
    }
   ],
   "source": [
    "pronostico[\"temp_num\"].mean()"
   ]
  },
  {
   "cell_type": "code",
   "execution_count": 14,
   "metadata": {},
   "outputs": [
    {
     "data": {
      "text/plain": [
       "0    False\n",
       "1     True\n",
       "2    False\n",
       "3     True\n",
       "4    False\n",
       "5     True\n",
       "6    False\n",
       "7     True\n",
       "8    False\n",
       "Name: Temperatura, dtype: bool"
      ]
     },
     "execution_count": 14,
     "metadata": {},
     "output_type": "execute_result"
    }
   ],
   "source": [
    "#Los dias que en la noche tenga esa temperatura o\n",
    "#esten en el rango de esa temperatura\n",
    "noche = pronostico[\"Temperatura\"].str.contains(\"Low\")\n",
    "pronostico[\"noche\"] = noche\n",
    "noche"
   ]
  },
  {
   "cell_type": "code",
   "execution_count": 15,
   "metadata": {},
   "outputs": [
    {
     "data": {
      "text/html": [
       "<div>\n",
       "<style scoped>\n",
       "    .dataframe tbody tr th:only-of-type {\n",
       "        vertical-align: middle;\n",
       "    }\n",
       "\n",
       "    .dataframe tbody tr th {\n",
       "        vertical-align: top;\n",
       "    }\n",
       "\n",
       "    .dataframe thead th {\n",
       "        text-align: right;\n",
       "    }\n",
       "</style>\n",
       "<table border=\"1\" class=\"dataframe\">\n",
       "  <thead>\n",
       "    <tr style=\"text-align: right;\">\n",
       "      <th></th>\n",
       "      <th>Dia</th>\n",
       "      <th>Descripcion</th>\n",
       "      <th>Temperatura</th>\n",
       "      <th>Detalle</th>\n",
       "      <th>temp_num</th>\n",
       "      <th>noche</th>\n",
       "    </tr>\n",
       "  </thead>\n",
       "  <tbody>\n",
       "    <tr>\n",
       "      <th>0</th>\n",
       "      <td>ThisAfternoon</td>\n",
       "      <td>Partly Sunny</td>\n",
       "      <td>High: 52 °F</td>\n",
       "      <td>This Afternoon: Partly sunny, with a high near...</td>\n",
       "      <td>52</td>\n",
       "      <td>False</td>\n",
       "    </tr>\n",
       "    <tr>\n",
       "      <th>1</th>\n",
       "      <td>Tonight</td>\n",
       "      <td>Partly Cloudy</td>\n",
       "      <td>Low: 34 °F</td>\n",
       "      <td>Tonight: Partly cloudy, with a low around 34. ...</td>\n",
       "      <td>34</td>\n",
       "      <td>True</td>\n",
       "    </tr>\n",
       "    <tr>\n",
       "      <th>2</th>\n",
       "      <td>Wednesday</td>\n",
       "      <td>Mostly Sunny</td>\n",
       "      <td>High: 63 °F</td>\n",
       "      <td>Wednesday: Mostly sunny, with a high near 63. ...</td>\n",
       "      <td>63</td>\n",
       "      <td>False</td>\n",
       "    </tr>\n",
       "    <tr>\n",
       "      <th>3</th>\n",
       "      <td>WednesdayNight</td>\n",
       "      <td>Partly Cloudy</td>\n",
       "      <td>Low: 45 °F</td>\n",
       "      <td>Wednesday Night: Partly cloudy, with a low aro...</td>\n",
       "      <td>45</td>\n",
       "      <td>True</td>\n",
       "    </tr>\n",
       "    <tr>\n",
       "      <th>4</th>\n",
       "      <td>Thursday</td>\n",
       "      <td>Partly Sunnythen SlightChanceShowers</td>\n",
       "      <td>High: 62 °F</td>\n",
       "      <td>Thursday: A 20 percent chance of showers after...</td>\n",
       "      <td>62</td>\n",
       "      <td>False</td>\n",
       "    </tr>\n",
       "    <tr>\n",
       "      <th>5</th>\n",
       "      <td>ThursdayNight</td>\n",
       "      <td>Mostly Cloudythen ChanceShowers</td>\n",
       "      <td>Low: 41 °F</td>\n",
       "      <td>Thursday Night: A 30 percent chance of showers...</td>\n",
       "      <td>41</td>\n",
       "      <td>True</td>\n",
       "    </tr>\n",
       "    <tr>\n",
       "      <th>6</th>\n",
       "      <td>Friday</td>\n",
       "      <td>ChanceShowers</td>\n",
       "      <td>High: 50 °F</td>\n",
       "      <td>Friday: A 50 percent chance of showers.  Cloud...</td>\n",
       "      <td>50</td>\n",
       "      <td>False</td>\n",
       "    </tr>\n",
       "    <tr>\n",
       "      <th>7</th>\n",
       "      <td>FridayNight</td>\n",
       "      <td>ChanceShowers</td>\n",
       "      <td>Low: 34 °F</td>\n",
       "      <td>Friday Night: A chance of showers before 2am. ...</td>\n",
       "      <td>34</td>\n",
       "      <td>True</td>\n",
       "    </tr>\n",
       "    <tr>\n",
       "      <th>8</th>\n",
       "      <td>Saturday</td>\n",
       "      <td>Partly Sunny</td>\n",
       "      <td>High: 49 °F</td>\n",
       "      <td>Saturday: Partly sunny, with a high near 49.</td>\n",
       "      <td>49</td>\n",
       "      <td>False</td>\n",
       "    </tr>\n",
       "  </tbody>\n",
       "</table>\n",
       "</div>"
      ],
      "text/plain": [
       "              Dia                           Descripcion  Temperatura  \\\n",
       "0   ThisAfternoon                          Partly Sunny  High: 52 °F   \n",
       "1         Tonight                         Partly Cloudy   Low: 34 °F   \n",
       "2       Wednesday                          Mostly Sunny  High: 63 °F   \n",
       "3  WednesdayNight                         Partly Cloudy   Low: 45 °F   \n",
       "4        Thursday  Partly Sunnythen SlightChanceShowers  High: 62 °F   \n",
       "5   ThursdayNight       Mostly Cloudythen ChanceShowers   Low: 41 °F   \n",
       "6          Friday                         ChanceShowers  High: 50 °F   \n",
       "7     FridayNight                         ChanceShowers   Low: 34 °F   \n",
       "8        Saturday                          Partly Sunny  High: 49 °F   \n",
       "\n",
       "                                             Detalle  temp_num  noche  \n",
       "0  This Afternoon: Partly sunny, with a high near...        52  False  \n",
       "1  Tonight: Partly cloudy, with a low around 34. ...        34   True  \n",
       "2  Wednesday: Mostly sunny, with a high near 63. ...        63  False  \n",
       "3  Wednesday Night: Partly cloudy, with a low aro...        45   True  \n",
       "4  Thursday: A 20 percent chance of showers after...        62  False  \n",
       "5  Thursday Night: A 30 percent chance of showers...        41   True  \n",
       "6  Friday: A 50 percent chance of showers.  Cloud...        50  False  \n",
       "7  Friday Night: A chance of showers before 2am. ...        34   True  \n",
       "8       Saturday: Partly sunny, with a high near 49.        49  False  "
      ]
     },
     "execution_count": 15,
     "metadata": {},
     "output_type": "execute_result"
    }
   ],
   "source": [
    "pronostico"
   ]
  },
  {
   "cell_type": "code",
   "execution_count": 16,
   "metadata": {
    "scrolled": true
   },
   "outputs": [
    {
     "data": {
      "text/html": [
       "<div>\n",
       "<style scoped>\n",
       "    .dataframe tbody tr th:only-of-type {\n",
       "        vertical-align: middle;\n",
       "    }\n",
       "\n",
       "    .dataframe tbody tr th {\n",
       "        vertical-align: top;\n",
       "    }\n",
       "\n",
       "    .dataframe thead th {\n",
       "        text-align: right;\n",
       "    }\n",
       "</style>\n",
       "<table border=\"1\" class=\"dataframe\">\n",
       "  <thead>\n",
       "    <tr style=\"text-align: right;\">\n",
       "      <th></th>\n",
       "      <th>Dia</th>\n",
       "      <th>Descripcion</th>\n",
       "      <th>Temperatura</th>\n",
       "      <th>Detalle</th>\n",
       "      <th>temp_num</th>\n",
       "      <th>noche</th>\n",
       "    </tr>\n",
       "  </thead>\n",
       "  <tbody>\n",
       "    <tr>\n",
       "      <th>1</th>\n",
       "      <td>Tonight</td>\n",
       "      <td>Partly Cloudy</td>\n",
       "      <td>Low: 34 °F</td>\n",
       "      <td>Tonight: Partly cloudy, with a low around 34. ...</td>\n",
       "      <td>34</td>\n",
       "      <td>True</td>\n",
       "    </tr>\n",
       "    <tr>\n",
       "      <th>3</th>\n",
       "      <td>WednesdayNight</td>\n",
       "      <td>Partly Cloudy</td>\n",
       "      <td>Low: 45 °F</td>\n",
       "      <td>Wednesday Night: Partly cloudy, with a low aro...</td>\n",
       "      <td>45</td>\n",
       "      <td>True</td>\n",
       "    </tr>\n",
       "    <tr>\n",
       "      <th>5</th>\n",
       "      <td>ThursdayNight</td>\n",
       "      <td>Mostly Cloudythen ChanceShowers</td>\n",
       "      <td>Low: 41 °F</td>\n",
       "      <td>Thursday Night: A 30 percent chance of showers...</td>\n",
       "      <td>41</td>\n",
       "      <td>True</td>\n",
       "    </tr>\n",
       "    <tr>\n",
       "      <th>7</th>\n",
       "      <td>FridayNight</td>\n",
       "      <td>ChanceShowers</td>\n",
       "      <td>Low: 34 °F</td>\n",
       "      <td>Friday Night: A chance of showers before 2am. ...</td>\n",
       "      <td>34</td>\n",
       "      <td>True</td>\n",
       "    </tr>\n",
       "  </tbody>\n",
       "</table>\n",
       "</div>"
      ],
      "text/plain": [
       "              Dia                      Descripcion Temperatura  \\\n",
       "1         Tonight                    Partly Cloudy  Low: 34 °F   \n",
       "3  WednesdayNight                    Partly Cloudy  Low: 45 °F   \n",
       "5   ThursdayNight  Mostly Cloudythen ChanceShowers  Low: 41 °F   \n",
       "7     FridayNight                    ChanceShowers  Low: 34 °F   \n",
       "\n",
       "                                             Detalle  temp_num  noche  \n",
       "1  Tonight: Partly cloudy, with a low around 34. ...        34   True  \n",
       "3  Wednesday Night: Partly cloudy, with a low aro...        45   True  \n",
       "5  Thursday Night: A 30 percent chance of showers...        41   True  \n",
       "7  Friday Night: A chance of showers before 2am. ...        34   True  "
      ]
     },
     "execution_count": 16,
     "metadata": {},
     "output_type": "execute_result"
    }
   ],
   "source": [
    "pronostico[noche]"
   ]
  },
  {
   "cell_type": "code",
   "execution_count": null,
   "metadata": {},
   "outputs": [],
   "source": []
  },
  {
   "cell_type": "code",
   "execution_count": 18,
   "metadata": {},
   "outputs": [
    {
     "ename": "SessionNotCreatedException",
     "evalue": "Message: session not created: This version of ChromeDriver only supports Chrome version 94\nCurrent browser version is 99.0.4844.51 with binary path C:\\Program Files\\Google\\Chrome\\Application\\chrome.exe\n",
     "output_type": "error",
     "traceback": [
      "\u001b[1;31m---------------------------------------------------------------------------\u001b[0m",
      "\u001b[1;31mSessionNotCreatedException\u001b[0m                Traceback (most recent call last)",
      "\u001b[1;32m~\\AppData\\Local\\Temp/ipykernel_18720/598054138.py\u001b[0m in \u001b[0;36m<module>\u001b[1;34m\u001b[0m\n\u001b[0;32m      1\u001b[0m \u001b[1;32mfrom\u001b[0m \u001b[0mselenium\u001b[0m \u001b[1;32mimport\u001b[0m \u001b[0mwebdriver\u001b[0m\u001b[1;33m\u001b[0m\u001b[1;33m\u001b[0m\u001b[0m\n\u001b[1;32m----> 2\u001b[1;33m \u001b[0mbrowser\u001b[0m \u001b[1;33m=\u001b[0m \u001b[0mwebdriver\u001b[0m\u001b[1;33m.\u001b[0m\u001b[0mChrome\u001b[0m\u001b[1;33m(\u001b[0m\u001b[1;33m)\u001b[0m\u001b[1;33m\u001b[0m\u001b[1;33m\u001b[0m\u001b[0m\n\u001b[0m\u001b[0;32m      3\u001b[0m \u001b[0mbrowser\u001b[0m\u001b[1;33m.\u001b[0m\u001b[0mget\u001b[0m\u001b[1;33m(\u001b[0m\u001b[1;34m\"http://www.yahoo.com\"\u001b[0m\u001b[1;33m)\u001b[0m\u001b[1;33m\u001b[0m\u001b[1;33m\u001b[0m\u001b[0m\n",
      "\u001b[1;32mC:\\ProgramData\\Anaconda3\\lib\\site-packages\\selenium\\webdriver\\chrome\\webdriver.py\u001b[0m in \u001b[0;36m__init__\u001b[1;34m(self, executable_path, port, options, service_args, desired_capabilities, service_log_path, chrome_options, keep_alive)\u001b[0m\n\u001b[0;32m     74\u001b[0m \u001b[1;33m\u001b[0m\u001b[0m\n\u001b[0;32m     75\u001b[0m         \u001b[1;32mtry\u001b[0m\u001b[1;33m:\u001b[0m\u001b[1;33m\u001b[0m\u001b[1;33m\u001b[0m\u001b[0m\n\u001b[1;32m---> 76\u001b[1;33m             RemoteWebDriver.__init__(\n\u001b[0m\u001b[0;32m     77\u001b[0m                 \u001b[0mself\u001b[0m\u001b[1;33m,\u001b[0m\u001b[1;33m\u001b[0m\u001b[1;33m\u001b[0m\u001b[0m\n\u001b[0;32m     78\u001b[0m                 command_executor=ChromeRemoteConnection(\n",
      "\u001b[1;32mC:\\ProgramData\\Anaconda3\\lib\\site-packages\\selenium\\webdriver\\remote\\webdriver.py\u001b[0m in \u001b[0;36m__init__\u001b[1;34m(self, command_executor, desired_capabilities, browser_profile, proxy, keep_alive, file_detector, options)\u001b[0m\n\u001b[0;32m    155\u001b[0m             warnings.warn(\"Please use FirefoxOptions to set browser profile\",\n\u001b[0;32m    156\u001b[0m                           DeprecationWarning, stacklevel=2)\n\u001b[1;32m--> 157\u001b[1;33m         \u001b[0mself\u001b[0m\u001b[1;33m.\u001b[0m\u001b[0mstart_session\u001b[0m\u001b[1;33m(\u001b[0m\u001b[0mcapabilities\u001b[0m\u001b[1;33m,\u001b[0m \u001b[0mbrowser_profile\u001b[0m\u001b[1;33m)\u001b[0m\u001b[1;33m\u001b[0m\u001b[1;33m\u001b[0m\u001b[0m\n\u001b[0m\u001b[0;32m    158\u001b[0m         \u001b[0mself\u001b[0m\u001b[1;33m.\u001b[0m\u001b[0m_switch_to\u001b[0m \u001b[1;33m=\u001b[0m \u001b[0mSwitchTo\u001b[0m\u001b[1;33m(\u001b[0m\u001b[0mself\u001b[0m\u001b[1;33m)\u001b[0m\u001b[1;33m\u001b[0m\u001b[1;33m\u001b[0m\u001b[0m\n\u001b[0;32m    159\u001b[0m         \u001b[0mself\u001b[0m\u001b[1;33m.\u001b[0m\u001b[0m_mobile\u001b[0m \u001b[1;33m=\u001b[0m \u001b[0mMobile\u001b[0m\u001b[1;33m(\u001b[0m\u001b[0mself\u001b[0m\u001b[1;33m)\u001b[0m\u001b[1;33m\u001b[0m\u001b[1;33m\u001b[0m\u001b[0m\n",
      "\u001b[1;32mC:\\ProgramData\\Anaconda3\\lib\\site-packages\\selenium\\webdriver\\remote\\webdriver.py\u001b[0m in \u001b[0;36mstart_session\u001b[1;34m(self, capabilities, browser_profile)\u001b[0m\n\u001b[0;32m    250\u001b[0m         parameters = {\"capabilities\": w3c_caps,\n\u001b[0;32m    251\u001b[0m                       \"desiredCapabilities\": capabilities}\n\u001b[1;32m--> 252\u001b[1;33m         \u001b[0mresponse\u001b[0m \u001b[1;33m=\u001b[0m \u001b[0mself\u001b[0m\u001b[1;33m.\u001b[0m\u001b[0mexecute\u001b[0m\u001b[1;33m(\u001b[0m\u001b[0mCommand\u001b[0m\u001b[1;33m.\u001b[0m\u001b[0mNEW_SESSION\u001b[0m\u001b[1;33m,\u001b[0m \u001b[0mparameters\u001b[0m\u001b[1;33m)\u001b[0m\u001b[1;33m\u001b[0m\u001b[1;33m\u001b[0m\u001b[0m\n\u001b[0m\u001b[0;32m    253\u001b[0m         \u001b[1;32mif\u001b[0m \u001b[1;34m'sessionId'\u001b[0m \u001b[1;32mnot\u001b[0m \u001b[1;32min\u001b[0m \u001b[0mresponse\u001b[0m\u001b[1;33m:\u001b[0m\u001b[1;33m\u001b[0m\u001b[1;33m\u001b[0m\u001b[0m\n\u001b[0;32m    254\u001b[0m             \u001b[0mresponse\u001b[0m \u001b[1;33m=\u001b[0m \u001b[0mresponse\u001b[0m\u001b[1;33m[\u001b[0m\u001b[1;34m'value'\u001b[0m\u001b[1;33m]\u001b[0m\u001b[1;33m\u001b[0m\u001b[1;33m\u001b[0m\u001b[0m\n",
      "\u001b[1;32mC:\\ProgramData\\Anaconda3\\lib\\site-packages\\selenium\\webdriver\\remote\\webdriver.py\u001b[0m in \u001b[0;36mexecute\u001b[1;34m(self, driver_command, params)\u001b[0m\n\u001b[0;32m    319\u001b[0m         \u001b[0mresponse\u001b[0m \u001b[1;33m=\u001b[0m \u001b[0mself\u001b[0m\u001b[1;33m.\u001b[0m\u001b[0mcommand_executor\u001b[0m\u001b[1;33m.\u001b[0m\u001b[0mexecute\u001b[0m\u001b[1;33m(\u001b[0m\u001b[0mdriver_command\u001b[0m\u001b[1;33m,\u001b[0m \u001b[0mparams\u001b[0m\u001b[1;33m)\u001b[0m\u001b[1;33m\u001b[0m\u001b[1;33m\u001b[0m\u001b[0m\n\u001b[0;32m    320\u001b[0m         \u001b[1;32mif\u001b[0m \u001b[0mresponse\u001b[0m\u001b[1;33m:\u001b[0m\u001b[1;33m\u001b[0m\u001b[1;33m\u001b[0m\u001b[0m\n\u001b[1;32m--> 321\u001b[1;33m             \u001b[0mself\u001b[0m\u001b[1;33m.\u001b[0m\u001b[0merror_handler\u001b[0m\u001b[1;33m.\u001b[0m\u001b[0mcheck_response\u001b[0m\u001b[1;33m(\u001b[0m\u001b[0mresponse\u001b[0m\u001b[1;33m)\u001b[0m\u001b[1;33m\u001b[0m\u001b[1;33m\u001b[0m\u001b[0m\n\u001b[0m\u001b[0;32m    322\u001b[0m             response['value'] = self._unwrap_value(\n\u001b[0;32m    323\u001b[0m                 response.get('value', None))\n",
      "\u001b[1;32mC:\\ProgramData\\Anaconda3\\lib\\site-packages\\selenium\\webdriver\\remote\\errorhandler.py\u001b[0m in \u001b[0;36mcheck_response\u001b[1;34m(self, response)\u001b[0m\n\u001b[0;32m    240\u001b[0m                 \u001b[0malert_text\u001b[0m \u001b[1;33m=\u001b[0m \u001b[0mvalue\u001b[0m\u001b[1;33m[\u001b[0m\u001b[1;34m'alert'\u001b[0m\u001b[1;33m]\u001b[0m\u001b[1;33m.\u001b[0m\u001b[0mget\u001b[0m\u001b[1;33m(\u001b[0m\u001b[1;34m'text'\u001b[0m\u001b[1;33m)\u001b[0m\u001b[1;33m\u001b[0m\u001b[1;33m\u001b[0m\u001b[0m\n\u001b[0;32m    241\u001b[0m             \u001b[1;32mraise\u001b[0m \u001b[0mexception_class\u001b[0m\u001b[1;33m(\u001b[0m\u001b[0mmessage\u001b[0m\u001b[1;33m,\u001b[0m \u001b[0mscreen\u001b[0m\u001b[1;33m,\u001b[0m \u001b[0mstacktrace\u001b[0m\u001b[1;33m,\u001b[0m \u001b[0malert_text\u001b[0m\u001b[1;33m)\u001b[0m\u001b[1;33m\u001b[0m\u001b[1;33m\u001b[0m\u001b[0m\n\u001b[1;32m--> 242\u001b[1;33m         \u001b[1;32mraise\u001b[0m \u001b[0mexception_class\u001b[0m\u001b[1;33m(\u001b[0m\u001b[0mmessage\u001b[0m\u001b[1;33m,\u001b[0m \u001b[0mscreen\u001b[0m\u001b[1;33m,\u001b[0m \u001b[0mstacktrace\u001b[0m\u001b[1;33m)\u001b[0m\u001b[1;33m\u001b[0m\u001b[1;33m\u001b[0m\u001b[0m\n\u001b[0m\u001b[0;32m    243\u001b[0m \u001b[1;33m\u001b[0m\u001b[0m\n\u001b[0;32m    244\u001b[0m     \u001b[1;32mdef\u001b[0m \u001b[0m_value_or_default\u001b[0m\u001b[1;33m(\u001b[0m\u001b[0mself\u001b[0m\u001b[1;33m,\u001b[0m \u001b[0mobj\u001b[0m\u001b[1;33m,\u001b[0m \u001b[0mkey\u001b[0m\u001b[1;33m,\u001b[0m \u001b[0mdefault\u001b[0m\u001b[1;33m)\u001b[0m\u001b[1;33m:\u001b[0m\u001b[1;33m\u001b[0m\u001b[1;33m\u001b[0m\u001b[0m\n",
      "\u001b[1;31mSessionNotCreatedException\u001b[0m: Message: session not created: This version of ChromeDriver only supports Chrome version 94\nCurrent browser version is 99.0.4844.51 with binary path C:\\Program Files\\Google\\Chrome\\Application\\chrome.exe\n"
     ]
    }
   ],
   "source": [
    "from selenium import webdriver\n",
    "browser = webdriver.Chrome()\n",
    "browser.get(\"http://www.yahoo.com\")"
   ]
  },
  {
   "cell_type": "code",
   "execution_count": null,
   "metadata": {},
   "outputs": [],
   "source": [
    "#Datos que requieren interaccion \n",
    "#Selenium fue creada para hacer testing\n",
    "#https://www.selenium.dev/documentation/webdriver/web_element/\n",
    "from selenium import webdriver\n",
    "browser = webdriver.Chrome()\n",
    "browser.get(\"https://forecast.weather.gov/MapClick.php?lat=29.633&lon=-95.6007#.X5c-IohKhPZ\")\n",
    "print(browser.title)"
   ]
  },
  {
   "cell_type": "code",
   "execution_count": null,
   "metadata": {},
   "outputs": [],
   "source": [
    "#Escribir en la caja de texto una cuidad. p.e Austin,Tx\n",
    "browser.find_element_by_id(\"btnSearch\").click()"
   ]
  },
  {
   "cell_type": "code",
   "execution_count": null,
   "metadata": {},
   "outputs": [],
   "source": [
    "go = browser.find_element_by_id(\"inputstring\")\n",
    "ciudad = 'Battle Creek, MI, USA'\n",
    "go.send_keys(ciudad)"
   ]
  },
  {
   "cell_type": "code",
   "execution_count": null,
   "metadata": {},
   "outputs": [],
   "source": [
    "browser.find_element_by_id(\"btnSearch\").click()"
   ]
  },
  {
   "cell_type": "code",
   "execution_count": null,
   "metadata": {},
   "outputs": [],
   "source": [
    "browser.quit()"
   ]
  },
  {
   "cell_type": "code",
   "execution_count": null,
   "metadata": {},
   "outputs": [],
   "source": []
  },
  {
   "cell_type": "code",
   "execution_count": null,
   "metadata": {},
   "outputs": [],
   "source": []
  },
  {
   "cell_type": "code",
   "execution_count": null,
   "metadata": {},
   "outputs": [],
   "source": []
  },
  {
   "cell_type": "code",
   "execution_count": null,
   "metadata": {},
   "outputs": [],
   "source": []
  },
  {
   "cell_type": "code",
   "execution_count": null,
   "metadata": {},
   "outputs": [],
   "source": []
  },
  {
   "cell_type": "code",
   "execution_count": null,
   "metadata": {},
   "outputs": [],
   "source": []
  },
  {
   "cell_type": "code",
   "execution_count": null,
   "metadata": {},
   "outputs": [],
   "source": []
  }
 ],
 "metadata": {
  "kernelspec": {
   "display_name": "Python 3 (ipykernel)",
   "language": "python",
   "name": "python3"
  },
  "language_info": {
   "codemirror_mode": {
    "name": "ipython",
    "version": 3
   },
   "file_extension": ".py",
   "mimetype": "text/x-python",
   "name": "python",
   "nbconvert_exporter": "python",
   "pygments_lexer": "ipython3",
   "version": "3.8.12"
  }
 },
 "nbformat": 4,
 "nbformat_minor": 4
}
