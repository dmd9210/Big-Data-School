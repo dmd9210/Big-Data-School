{
 "cells": [
  {
   "cell_type": "markdown",
   "metadata": {},
   "source": [
    "# API- REST\n",
    "Google OMBD: http://omdbapi.com/ solicitar api key gratituta"
   ]
  },
  {
   "cell_type": "code",
   "execution_count": 9,
   "metadata": {},
   "outputs": [],
   "source": [
    "clave = \"fe691e09\"\n",
    "uri = \"https://www.omdbapi.com/?&apikey=\" + clave"
   ]
  },
  {
   "cell_type": "code",
   "execution_count": 10,
   "metadata": {},
   "outputs": [],
   "source": [
    "import requests\n",
    "import json"
   ]
  },
  {
   "cell_type": "code",
   "execution_count": 11,
   "metadata": {
    "collapsed": true
   },
   "outputs": [
    {
     "data": {
      "text/plain": [
       "{'Search': [{'Title': 'Star Wars',\n",
       "   'Year': '1977',\n",
       "   'imdbID': 'tt0076759',\n",
       "   'Type': 'movie',\n",
       "   'Poster': 'https://m.media-amazon.com/images/M/MV5BNzVlY2MwMjktM2E4OS00Y2Y3LWE3ZjctYzhkZGM3YzA1ZWM2XkEyXkFqcGdeQXVyNzkwMjQ5NzM@._V1_SX300.jpg'},\n",
       "  {'Title': 'Star Wars: Episode V - The Empire Strikes Back',\n",
       "   'Year': '1980',\n",
       "   'imdbID': 'tt0080684',\n",
       "   'Type': 'movie',\n",
       "   'Poster': 'https://m.media-amazon.com/images/M/MV5BYmU1NDRjNDgtMzhiMi00NjZmLTg5NGItZDNiZjU5NTU4OTE0XkEyXkFqcGdeQXVyNzkwMjQ5NzM@._V1_SX300.jpg'},\n",
       "  {'Title': 'Star Wars: Episode VI - Return of the Jedi',\n",
       "   'Year': '1983',\n",
       "   'imdbID': 'tt0086190',\n",
       "   'Type': 'movie',\n",
       "   'Poster': 'https://m.media-amazon.com/images/M/MV5BOWZlMjFiYzgtMTUzNC00Y2IzLTk1NTMtZmNhMTczNTk0ODk1XkEyXkFqcGdeQXVyNTAyODkwOQ@@._V1_SX300.jpg'},\n",
       "  {'Title': 'Star Wars: Episode VII - The Force Awakens',\n",
       "   'Year': '2015',\n",
       "   'imdbID': 'tt2488496',\n",
       "   'Type': 'movie',\n",
       "   'Poster': 'https://m.media-amazon.com/images/M/MV5BOTAzODEzNDAzMl5BMl5BanBnXkFtZTgwMDU1MTgzNzE@._V1_SX300.jpg'},\n",
       "  {'Title': 'Star Wars: Episode I - The Phantom Menace',\n",
       "   'Year': '1999',\n",
       "   'imdbID': 'tt0120915',\n",
       "   'Type': 'movie',\n",
       "   'Poster': 'https://m.media-amazon.com/images/M/MV5BYTRhNjcwNWQtMGJmMi00NmQyLWE2YzItODVmMTdjNWI0ZDA2XkEyXkFqcGdeQXVyNTAyODkwOQ@@._V1_SX300.jpg'},\n",
       "  {'Title': 'Star Wars: Episode III - Revenge of the Sith',\n",
       "   'Year': '2005',\n",
       "   'imdbID': 'tt0121766',\n",
       "   'Type': 'movie',\n",
       "   'Poster': 'https://m.media-amazon.com/images/M/MV5BNTc4MTc3NTQ5OF5BMl5BanBnXkFtZTcwOTg0NjI4NA@@._V1_SX300.jpg'},\n",
       "  {'Title': 'Star Wars: Episode II - Attack of the Clones',\n",
       "   'Year': '2002',\n",
       "   'imdbID': 'tt0121765',\n",
       "   'Type': 'movie',\n",
       "   'Poster': 'https://m.media-amazon.com/images/M/MV5BMDAzM2M0Y2UtZjRmZi00MzVlLTg4MjEtOTE3NzU5ZDVlMTU5XkEyXkFqcGdeQXVyNDUyOTg3Njg@._V1_SX300.jpg'},\n",
       "  {'Title': 'Star Wars: Episode VIII - The Last Jedi',\n",
       "   'Year': '2017',\n",
       "   'imdbID': 'tt2527336',\n",
       "   'Type': 'movie',\n",
       "   'Poster': 'https://m.media-amazon.com/images/M/MV5BMjQ1MzcxNjg4N15BMl5BanBnXkFtZTgwNzgwMjY4MzI@._V1_SX300.jpg'},\n",
       "  {'Title': 'Star Wars: Episode IX - The Rise of Skywalker',\n",
       "   'Year': '2019',\n",
       "   'imdbID': 'tt2527338',\n",
       "   'Type': 'movie',\n",
       "   'Poster': 'https://m.media-amazon.com/images/M/MV5BMDljNTQ5ODItZmQwMy00M2ExLTljOTQtZTVjNGE2NTg0NGIxXkEyXkFqcGdeQXVyODkzNTgxMDg@._V1_SX300.jpg'},\n",
       "  {'Title': 'Solo: A Star Wars Story',\n",
       "   'Year': '2018',\n",
       "   'imdbID': 'tt3778644',\n",
       "   'Type': 'movie',\n",
       "   'Poster': 'https://m.media-amazon.com/images/M/MV5BOTM2NTI3NTc3Nl5BMl5BanBnXkFtZTgwNzM1OTQyNTM@._V1_SX300.jpg'}],\n",
       " 'totalResults': '473',\n",
       " 'Response': 'True'}"
      ]
     },
     "execution_count": 11,
     "metadata": {},
     "output_type": "execute_result"
    }
   ],
   "source": [
    "#busqueda con valor s\n",
    "consulta = requests.get(uri, {\"s\": \"Star Wars\", \"type\": \"movie\"})\n",
    "consulta.json()"
   ]
  },
  {
   "cell_type": "code",
   "execution_count": 15,
   "metadata": {
    "collapsed": true
   },
   "outputs": [
    {
     "data": {
      "text/plain": [
       "{'Title': 'Dune',\n",
       " 'Year': '2021',\n",
       " 'Rated': 'PG-13',\n",
       " 'Released': '22 Oct 2021',\n",
       " 'Runtime': '155 min',\n",
       " 'Genre': 'Action, Adventure, Drama',\n",
       " 'Director': 'Denis Villeneuve',\n",
       " 'Writer': 'Jon Spaihts, Denis Villeneuve, Eric Roth',\n",
       " 'Actors': 'Timothée Chalamet, Rebecca Ferguson, Zendaya',\n",
       " 'Plot': \"Feature adaptation of Frank Herbert's science fiction novel, about the son of a noble family entrusted with the protection of the most valuable asset and most vital element in the galaxy.\",\n",
       " 'Language': 'English',\n",
       " 'Country': 'United States, Canada',\n",
       " 'Awards': '1 nomination',\n",
       " 'Poster': 'https://m.media-amazon.com/images/M/MV5BN2FjNmEyNWMtYzM0ZS00NjIyLTg5YzYtYThlMGVjNzE1OGViXkEyXkFqcGdeQXVyMTkxNjUyNQ@@._V1_SX300.jpg',\n",
       " 'Ratings': [{'Source': 'Internet Movie Database', 'Value': '8.4/10'},\n",
       "  {'Source': 'Metacritic', 'Value': '75/100'}],\n",
       " 'Metascore': '75',\n",
       " 'imdbRating': '8.4',\n",
       " 'imdbVotes': '69,317',\n",
       " 'imdbID': 'tt1160419',\n",
       " 'Type': 'movie',\n",
       " 'DVD': 'N/A',\n",
       " 'BoxOffice': 'N/A',\n",
       " 'Production': 'N/A',\n",
       " 'Website': 'N/A',\n",
       " 'Response': 'True'}"
      ]
     },
     "execution_count": 15,
     "metadata": {},
     "output_type": "execute_result"
    }
   ],
   "source": [
    "#Consulta de información\n",
    "consulta_info = requests.get(uri,{\"i\" : \"tt1160419\", \"type\" : \"movie\"})\n",
    "consulta_info.json()"
   ]
  },
  {
   "cell_type": "code",
   "execution_count": 18,
   "metadata": {},
   "outputs": [
    {
     "data": {
      "text/plain": [
       "'https://www.omdbapi.com/?&apikey=fe691e09&i=tt1160419&type=movie'"
      ]
     },
     "execution_count": 18,
     "metadata": {},
     "output_type": "execute_result"
    }
   ],
   "source": [
    "consulta_info.url"
   ]
  },
  {
   "cell_type": "code",
   "execution_count": 19,
   "metadata": {},
   "outputs": [],
   "source": [
    "consulta_info.close()"
   ]
  },
  {
   "cell_type": "code",
   "execution_count": null,
   "metadata": {},
   "outputs": [],
   "source": []
  }
 ],
 "metadata": {
  "kernelspec": {
   "display_name": "Python 3 (ipykernel)",
   "language": "python",
   "name": "python3"
  },
  "language_info": {
   "codemirror_mode": {
    "name": "ipython",
    "version": 3
   },
   "file_extension": ".py",
   "mimetype": "text/x-python",
   "name": "python",
   "nbconvert_exporter": "python",
   "pygments_lexer": "ipython3",
   "version": "3.8.12"
  }
 },
 "nbformat": 4,
 "nbformat_minor": 4
}
