{
 "cells": [
  {
   "cell_type": "code",
   "execution_count": 1,
   "id": "0cc04f61",
   "metadata": {},
   "outputs": [],
   "source": [
    "import findspark\n",
    "findspark.init()"
   ]
  },
  {
   "cell_type": "code",
   "execution_count": 2,
   "id": "d48816ed",
   "metadata": {},
   "outputs": [],
   "source": [
    "from pyspark.sql import SparkSession"
   ]
  },
  {
   "cell_type": "code",
   "execution_count": 3,
   "id": "c0ff80b1",
   "metadata": {},
   "outputs": [],
   "source": [
    "spark = SparkSession.builder.appName(\"DataWrangling\").getOrCreate()"
   ]
  },
  {
   "cell_type": "code",
   "execution_count": 14,
   "id": "292ec4c7",
   "metadata": {},
   "outputs": [],
   "source": [
    "#arch = \"'C:\\\\Big Data\\\\movie_data_tmbd.csv'\"\n",
    "arch = \"movie_data_tmbd.csv\""
   ]
  },
  {
   "cell_type": "code",
   "execution_count": 16,
   "id": "5852dce3",
   "metadata": {},
   "outputs": [],
   "source": [
    "df = spark.read.format(\"csv\").option(\"inferSchema\", False).option(\"header\", True).option(\"sep\",\"|\").load(arch)"
   ]
  },
  {
   "cell_type": "code",
   "execution_count": 18,
   "id": "a4958666",
   "metadata": {
    "collapsed": true
   },
   "outputs": [
    {
     "name": "stdout",
     "output_type": "stream",
     "text": [
      "root\n",
      " |-- adult: string (nullable = true)\n",
      " |-- backdrop_path: string (nullable = true)\n",
      " |-- belongs_to_collection: string (nullable = true)\n",
      " |-- budget: string (nullable = true)\n",
      " |-- genres: string (nullable = true)\n",
      " |-- homepage: string (nullable = true)\n",
      " |-- id: string (nullable = true)\n",
      " |-- imdb_id: string (nullable = true)\n",
      " |-- original_language: string (nullable = true)\n",
      " |-- original_title: string (nullable = true)\n",
      " |-- overview: string (nullable = true)\n",
      " |-- popularity: string (nullable = true)\n",
      " |-- poster_path: string (nullable = true)\n",
      " |-- production_companies: string (nullable = true)\n",
      " |-- production_countries: string (nullable = true)\n",
      " |-- release_date: string (nullable = true)\n",
      " |-- revenue: string (nullable = true)\n",
      " |-- runtime: string (nullable = true)\n",
      " |-- spoken_languages: string (nullable = true)\n",
      " |-- status: string (nullable = true)\n",
      " |-- tagline: string (nullable = true)\n",
      " |-- title: string (nullable = true)\n",
      " |-- video: string (nullable = true)\n",
      " |-- vote_average: string (nullable = true)\n",
      " |-- vote_count: string (nullable = true)\n",
      " |-- cast: string (nullable = true)\n",
      " |-- directors: string (nullable = true)\n",
      "\n"
     ]
    }
   ],
   "source": [
    "df.printSchema()"
   ]
  },
  {
   "cell_type": "code",
   "execution_count": 19,
   "id": "fcf70024",
   "metadata": {
    "collapsed": true
   },
   "outputs": [
    {
     "data": {
      "text/plain": [
       "[('adult', 'string'),\n",
       " ('backdrop_path', 'string'),\n",
       " ('belongs_to_collection', 'string'),\n",
       " ('budget', 'string'),\n",
       " ('genres', 'string'),\n",
       " ('homepage', 'string'),\n",
       " ('id', 'string'),\n",
       " ('imdb_id', 'string'),\n",
       " ('original_language', 'string'),\n",
       " ('original_title', 'string'),\n",
       " ('overview', 'string'),\n",
       " ('popularity', 'string'),\n",
       " ('poster_path', 'string'),\n",
       " ('production_companies', 'string'),\n",
       " ('production_countries', 'string'),\n",
       " ('release_date', 'string'),\n",
       " ('revenue', 'string'),\n",
       " ('runtime', 'string'),\n",
       " ('spoken_languages', 'string'),\n",
       " ('status', 'string'),\n",
       " ('tagline', 'string'),\n",
       " ('title', 'string'),\n",
       " ('video', 'string'),\n",
       " ('vote_average', 'string'),\n",
       " ('vote_count', 'string'),\n",
       " ('cast', 'string'),\n",
       " ('directors', 'string')]"
      ]
     },
     "execution_count": 19,
     "metadata": {},
     "output_type": "execute_result"
    }
   ],
   "source": [
    "df.dtypes"
   ]
  },
  {
   "cell_type": "code",
   "execution_count": 20,
   "id": "74d1026d",
   "metadata": {
    "collapsed": true
   },
   "outputs": [
    {
     "data": {
      "text/plain": [
       "['adult',\n",
       " 'backdrop_path',\n",
       " 'belongs_to_collection',\n",
       " 'budget',\n",
       " 'genres',\n",
       " 'homepage',\n",
       " 'id',\n",
       " 'imdb_id',\n",
       " 'original_language',\n",
       " 'original_title',\n",
       " 'overview',\n",
       " 'popularity',\n",
       " 'poster_path',\n",
       " 'production_companies',\n",
       " 'production_countries',\n",
       " 'release_date',\n",
       " 'revenue',\n",
       " 'runtime',\n",
       " 'spoken_languages',\n",
       " 'status',\n",
       " 'tagline',\n",
       " 'title',\n",
       " 'video',\n",
       " 'vote_average',\n",
       " 'vote_count',\n",
       " 'cast',\n",
       " 'directors']"
      ]
     },
     "execution_count": 20,
     "metadata": {},
     "output_type": "execute_result"
    }
   ],
   "source": [
    "df.columns"
   ]
  },
  {
   "cell_type": "code",
   "execution_count": 21,
   "id": "dfae2f56",
   "metadata": {},
   "outputs": [
    {
     "data": {
      "text/plain": [
       "120127"
      ]
     },
     "execution_count": 21,
     "metadata": {},
     "output_type": "execute_result"
    }
   ],
   "source": [
    "df.count()"
   ]
  },
  {
   "cell_type": "code",
   "execution_count": 27,
   "id": "54c236f7",
   "metadata": {},
   "outputs": [],
   "source": [
    "cols = ['id','budget','popularity','release_date','revenue','title']"
   ]
  },
  {
   "cell_type": "code",
   "execution_count": 28,
   "id": "3a7bcb15",
   "metadata": {},
   "outputs": [],
   "source": [
    "subconjunto = df.select(*cols)"
   ]
  },
  {
   "cell_type": "code",
   "execution_count": 29,
   "id": "ad6c78aa",
   "metadata": {
    "collapsed": true
   },
   "outputs": [
    {
     "name": "stdout",
     "output_type": "stream",
     "text": [
      "+-----+-------+------------------+------------+-------+--------------------+\n",
      "|   id| budget|        popularity|release_date|revenue|               title|\n",
      "+-----+-------+------------------+------------+-------+--------------------+\n",
      "|43000|      0|             3.892|  1962-05-23|      0|The Elusive Corporal|\n",
      "|43001|      0|             5.482|  1962-11-12|      0|  Sundays and Cybele|\n",
      "|43002|      0|             8.262|  1962-05-24|      0|Lonely Are the Brave|\n",
      "|43003|      0|              7.83|  1975-03-12|      0|          F for Fake|\n",
      "|43004| 500000|             5.694|  1962-10-09|      0|Long Day's Journe...|\n",
      "|43006|      0|             2.873|  1962-03-09|      0|           My Geisha|\n",
      "|43007|      0|             3.433|  1962-10-31|      0|Period of Adjustment|\n",
      "|43008|      0|             7.869|  1959-03-13|      0|    The Hanging Tree|\n",
      "|43010|      0|             3.775|  1962-01-01|      0|Sherlock Holmes a...|\n",
      "|43011|      0|             7.185|  1962-01-01|      0|  Sodom and Gomorrah|\n",
      "|43012|7000000|             8.193|  1962-11-21|4000000|         Taras Bulba|\n",
      "|43013|      0|             4.408|  1962-04-17|      0|The Counterfeit T...|\n",
      "|43014|      0|             5.562|  1962-10-24|      0|     Tower of London|\n",
      "|43015|      0|             3.083|  1962-12-07|      0|Varan the Unbelie...|\n",
      "|43016|      0|3.5060000000000002|  1962-04-12|      0|Waltz of the Tore...|\n",
      "|43017|      0|             3.926|  1961-10-11|      0|         Back Street|\n",
      "|43018|      0|             3.623|  1961-06-02|      0|Gidget Goes Hawaiian|\n",
      "|43019|      0|             2.112|  2010-05-28|      0|Schuks Tshabalala...|\n",
      "|43020|      0|             9.668|  1961-06-15|      0|The Colossus of R...|\n",
      "|43021|      0|             4.033|  2008-08-22|      0|          Sex Galaxy|\n",
      "+-----+-------+------------------+------------+-------+--------------------+\n",
      "only showing top 20 rows\n",
      "\n"
     ]
    }
   ],
   "source": [
    "subconjunto.show()"
   ]
  },
  {
   "cell_type": "code",
   "execution_count": 30,
   "id": "c4903a7a",
   "metadata": {
    "collapsed": true
   },
   "outputs": [
    {
     "name": "stdout",
     "output_type": "stream",
     "text": [
      "+-----+--------------------+---------------------+-------+--------------------+--------------------+-----+---------+-----------------+--------------------+--------------------+------------------+--------------------+--------------------+--------------------+------------+-------+-------+--------------------+--------+--------------------+--------------------+-----+------------+----------+--------------------+--------------------+\n",
      "|adult|       backdrop_path|belongs_to_collection| budget|              genres|            homepage|   id|  imdb_id|original_language|      original_title|            overview|        popularity|         poster_path|production_companies|production_countries|release_date|revenue|runtime|    spoken_languages|  status|             tagline|               title|video|vote_average|vote_count|                cast|           directors|\n",
      "+-----+--------------------+---------------------+-------+--------------------+--------------------+-----+---------+-----------------+--------------------+--------------------+------------------+--------------------+--------------------+--------------------+------------+-------+-------+--------------------+--------+--------------------+--------------------+-----+------------+----------+--------------------+--------------------+\n",
      "|False|/zjLR7DbWujKiG7Vh...|                 null|      0|[{'id': 35, 'name...|                null|43000|tt0055827|               fr|  Le Caporal épinglé|The story serves ...|             3.892|/uagTKYLsRxVq5cfC...|[{'id': 16059, 'l...|[{'iso_3166_1': '...|  1962-05-23|      0|     90|[{'iso_639_1': 'f...|Released|                null|The Elusive Corporal|False|         5.9|        10|[{'cast_id': 3, '...|[{'credit_id': '5...|\n",
      "|False|                null|                 null|      0|[{'id': 18, 'name...|                null|43001|tt0055910|               fr|Cybèle ou les dim...|The tragic story ...|             5.482|/sTx0bYeq1OtKOGZS...|[{'id': 7808, 'lo...|[{'iso_3166_1': '...|  1962-11-12|      0|    110|[{'iso_639_1': 'f...|Released|                null|  Sundays and Cybele|False|         7.4|        28|\"[{'cast_id': 4, ...|[{'credit_id': '5...|\n",
      "|False|/7hbpOpGDOYZ4G8dd...|                 null|      0|[{'id': 18, 'name...|                null|43002|tt0056195|               en|Lonely Are the Brave|A fiercely indepe...|             8.262|/h5gaDp7FurCVfUCI...|[{'id': 3810, 'lo...|[{'iso_3166_1': '...|  1962-05-24|      0|    107|[{'iso_639_1': 'e...|Released|Life can never ca...|Lonely Are the Brave|False|         7.5|        70|\"[{'cast_id': 1, ...|[{'credit_id': '5...|\n",
      "|False|/28a0wvZb8kyjVBd6...|                 null|      0|[{'id': 99, 'name...|                null|43003|tt0072962|               fr|Vérités et Mensonges|Documents the liv...|              7.83|/qe6uEkCFGzY4j3nB...|[{'id': 36547, 'l...|[{'iso_3166_1': '...|  1975-03-12|      0|     89|[{'iso_639_1': 'e...|Released|                null|          F for Fake|False|         7.5|       178|[{'cast_id': 3, '...|[{'credit_id': '5...|\n",
      "|False|/bQzj8DnIghVqUSe5...|                 null| 500000|[{'id': 18, 'name...|                null|43004|tt0056196|               en|Long Day's Journe...|The film follows ...|             5.694|/v0LN26HmrCEgZiDG...|[{'id': 77598, 'l...|[{'iso_3166_1': '...|  1962-10-09|      0|    174|[{'iso_639_1': 'e...|Released|PRIDE...POWER...P...|Long Day's Journe...|False|         6.9|        32|[{'cast_id': 1, '...|[{'credit_id': '5...|\n",
      "|False|/gluooDaZ9PYOq4pU...|                 null|      0|[{'id': 35, 'name...|                null|43006|tt0056267|               en|           My Geisha|\"A director's (Yv...|             2.873|/agETDkxKKoPSZSeY...|[{'id': 82939, 'l...|[{'iso_3166_1': '...|  1962-03-09|      0|    119|[{'iso_639_1': 'j...|Released|                null|           My Geisha|False|         6.1|         7|\"[{'cast_id': 2, ...|[{'credit_id': '5...|\n",
      "|False|/mKeTNV8NzpbfmovX...|                 null|      0|[{'id': 35, 'name...|                null|43007|tt0056341|               en|Period of Adjustment|George Haverstick...|             3.433|/fb3Rh4sZMdEbGgfZ...|[{'id': 13359, 'l...|[{'iso_3166_1': '...|  1962-10-31|      0|    112|[{'iso_639_1': 'e...|Released|The agonizing pau...|Period of Adjustment|False|         6.4|         9|[{'cast_id': 2, '...|[{'credit_id': '5...|\n",
      "|False|/nbUnIkRlBmUEnI3Y...|                 null|      0|[{'id': 37, 'name...|                null|43008|tt0052876|               en|    The Hanging Tree|Character study o...|             7.869|/iViIfECbpQxPDhHj...|[{'id': 14248, 'l...|[{'iso_3166_1': '...|  1959-03-13|      0|    107|[{'iso_639_1': 'e...|Released|From The Prize No...|    The Hanging Tree|False|         6.6|        47|\"[{'cast_id': 2, ...|[{'credit_id': '5...|\n",
      "|False|                null|                 null|      0|[{'id': 10749, 'n...|                null|43010|tt0056480|               de|Sherlock Holmes u...|Sherlock Holmes a...|             3.775|/8bzjFYn0lbl3TxKX...|[{'id': 1787, 'lo...|[{'iso_3166_1': '...|  1962-01-01|      0|     87|[{'iso_639_1': 'd...|Released|                null|Sherlock Holmes a...|False|         5.5|        16|[{'cast_id': 2, '...|[{'credit_id': '5...|\n",
      "|False|/lan48NgJQEns4ZDV...|                 null|      0|[{'id': 12, 'name...|                null|43011|tt0056504|               en|  Sodom and Gomorrah|Sex, torture and ...|             7.185|/7aecIPGBoKB7FTVZ...|[{'id': 8894, 'lo...|[{'iso_3166_1': '...|  1962-01-01|      0|    154|[{'iso_639_1': 'e...|Released|The cities that m...|  Sodom and Gomorrah|False|         5.4|        15|[{'cast_id': 2, '...|[{'credit_id': '5...|\n",
      "|False|/uRnYzCJELrXfuSgg...|                 null|7000000|[{'id': 12, 'name...|                null|43012|tt0056556|               en|         Taras Bulba|Ukraine, 16th cen...|             8.193|/8bnn12yMugSBIKlr...|[{'id': 5940, 'lo...|[{'iso_3166_1': '...|  1962-11-21|4000000|    119|[{'iso_639_1': 'e...|Released|A love story of f...|         Taras Bulba|False|         6.6|        38|[{'cast_id': 6, '...|[{'credit_id': '5...|\n",
      "|False|/s7TUDhHUnWLe3btC...|                 null|      0|[{'id': 10752, 'n...|                null|43013|tt0055871|               en|The Counterfeit T...|Blacklisted in mo...|             4.408|/aV0Lw63PJx8UP5oi...|[{'id': 5015, 'lo...|[{'iso_3166_1': '...|  1962-04-17|      0|    140|[{'iso_639_1': 'd...|Released|                null|The Counterfeit T...|False|         6.6|        15|[{'cast_id': 6, '...|[{'credit_id': '5...|\n",
      "|False|/9f7UO3XXO5mXZbTG...|                 null|      0|[{'id': 36, 'name...|                null|43014|tt0056606|               en|     Tower of London|The twisted Richa...|             5.562|/vUtBsghEBpQyOgW7...|[{'id': 13479, 'l...|[{'iso_3166_1': '...|  1962-10-24|      0|     80|[{'iso_639_1': 'e...|Released|Do you have the c...|     Tower of London|False|         6.1|        27|\"[{'cast_id': 1, ...|[{'credit_id': '5...|\n",
      "|False|                null|                 null|      0|[{'id': 27, 'name...|                null|43015|tt0056648|               en|Varan the Unbelie...|In an effort to f...|             3.083|/8d1EwryVli1eXO9R...|[{'id': 86054, 'l...|[{'iso_3166_1': '...|  1962-12-07|      0|     70|[{'iso_639_1': 'e...|Released|From a world belo...|Varan the Unbelie...|False|         4.8|        14|\"[{'cast_id': 6, ...|[{'credit_id': '5...|\n",
      "|False|/r0esBnoZpWGBZLoR...|                 null|      0|[{'id': 35, 'name...|                null|43016|tt0056673|               en|Waltz of the Tore...|General Fitzhugh,...|3.5060000000000002|/AlnxKr85KeHjZ8S4...|[{'id': 35265, 'l...|[{'iso_3166_1': '...|  1962-04-12|      0|    105|[{'iso_639_1': 'e...|Released|Meet the General....|Waltz of the Tore...|False|         5.6|         4|[{'cast_id': 2, '...|[{'credit_id': '5...|\n",
      "|False|/2iVOZegXhkuYpzy5...|                 null|      0|[{'id': 18, 'name...|                null|43017|tt0054653|               en|         Back Street|Ambitious but thw...|             3.926|/lILxmYTDGiWTbUf3...|[{'id': 1830, 'lo...|[{'iso_3166_1': '...|  1961-10-11|      0|    107|[{'iso_639_1': 'e...|Released|                null|         Back Street|False|         6.2|         8|[{'cast_id': 1, '...|[{'credit_id': '5...|\n",
      "|False|/5rqr8XCnj0wekMbT...| {'id': 145494, 'n...|      0|[{'id': 35, 'name...|                null|43018|tt0054923|               en|Gidget Goes Hawaiian|\"Francis is despe...|             3.623|/c0D2yn1gcg1QKjHf...|[{'id': 5, 'logo_...|[{'iso_3166_1': '...|  1961-06-02|      0|    101|[{'iso_639_1': 'e...|Released|\"Get Happy! Get w...|Gidget Goes Hawaiian|False|         4.4|         7|\"[{'cast_id': 4, ...|[{'credit_id': '5...|\n",
      "|False|                null|                 null|      0|[{'id': 35, 'name...|http://www.schuks...|43019|tt1703942|               en|Schuks Tshabalala...|Leon Schuster or ...|             2.112|/yLgC7xpShCf7QxtF...|                  []|[{'iso_3166_1': '...|  2010-05-28|      0|     91|[{'iso_639_1': 'e...|Released|                null|Schuks Tshabalala...|False|         5.3|         8|[{'cast_id': 2, '...|[{'credit_id': '5...|\n",
      "|False|/lJPzIsddMSc7aGqv...|                 null|      0|[{'id': 36, 'name...|                null|43020|tt0054756|               it|  Il colosso di Rodi|While on holiday ...|             9.668|/xOt1RCHmGT47XpBf...|[{'id': 4745, 'lo...|[{'iso_3166_1': '...|  1961-06-15|      0|    127|[{'iso_639_1': 'i...|Released|A monster statue ...|The Colossus of R...|False|         6.1|        94|[{'cast_id': 3, '...|[{'credit_id': '5...|\n",
      "|False|                null|                 null|      0|[{'id': 35, 'name...|http://www.myspac...|43021|tt1198142|               en|          Sex Galaxy|One hundred years...|             4.033|/9pzN5XOrzAI1wfJU...|[{'id': 21794, 'l...|[{'iso_3166_1': '...|  2008-08-22|      0|     78|[{'iso_639_1': 'e...|Released|The world's first...|          Sex Galaxy|False|         3.1|         7|[{'cast_id': 2, '...|[{'credit_id': '5...|\n",
      "+-----+--------------------+---------------------+-------+--------------------+--------------------+-----+---------+-----------------+--------------------+--------------------+------------------+--------------------+--------------------+--------------------+------------+-------+-------+--------------------+--------+--------------------+--------------------+-----+------------+----------+--------------------+--------------------+\n",
      "only showing top 20 rows\n",
      "\n"
     ]
    }
   ],
   "source": [
    "df.show()"
   ]
  },
  {
   "cell_type": "code",
   "execution_count": 31,
   "id": "ace40c88",
   "metadata": {},
   "outputs": [],
   "source": [
    "#Para calcular los valores faltantes en una columna o en varias utilizando funciones de PySpark\n",
    "from pyspark.sql.functions import *"
   ]
  },
  {
   "cell_type": "code",
   "execution_count": 32,
   "id": "35cafb1e",
   "metadata": {},
   "outputs": [
    {
     "data": {
      "text/plain": [
       "1059"
      ]
     },
     "execution_count": 32,
     "metadata": {},
     "output_type": "execute_result"
    }
   ],
   "source": [
    "df.filter((df['popularity']=='')| df['popularity'].isNull()|isnan(df['popularity'])).count()"
   ]
  },
  {
   "cell_type": "code",
   "execution_count": 34,
   "id": "27076291",
   "metadata": {
    "collapsed": true
   },
   "outputs": [
    {
     "name": "stdout",
     "output_type": "stream",
     "text": [
      "+-----+-------------+---------------------+------+------+--------+---+-------+-----------------+--------------+--------+----------+-----------+--------------------+--------------------+------------+-------+-------+----------------+------+-------+-----+-----+------------+----------+----+---------+\n",
      "|adult|backdrop_path|belongs_to_collection|budget|genres|homepage| id|imdb_id|original_language|original_title|overview|popularity|poster_path|production_companies|production_countries|release_date|revenue|runtime|spoken_languages|status|tagline|title|video|vote_average|vote_count|cast|directors|\n",
      "+-----+-------------+---------------------+------+------+--------+---+-------+-----------------+--------------+--------+----------+-----------+--------------------+--------------------+------------+-------+-------+----------------+------+-------+-----+-----+------------+----------+----+---------+\n",
      "|    0|        52968|               110564|   658|   658|   99919|658|   5575|              658|           658|    3568|      1059|       1059|                1059|                1059|        1487|   1059|   1455|            1455|  1455|  80831| 1455| 1455|        1455|      1456|1455|     1455|\n",
      "+-----+-------------+---------------------+------+------+--------+---+-------+-----------------+--------------+--------+----------+-----------+--------------------+--------------------+------------+-------+-------+----------------+------+-------+-----+-----+------------+----------+----+---------+\n",
      "\n"
     ]
    }
   ],
   "source": [
    "#Calcular todos los valores faltantes en el DF\n",
    "#alias gneera una nuevo dataset con una nuevo nombre \":c = df.alias(\"c\") \"\n",
    "df.select([count(when((col(c)=='')|col(c).isNull()|isnan(c), c)).alias(c) for c in df.columns]).show()"
   ]
  },
  {
   "cell_type": "code",
   "execution_count": 35,
   "id": "98d9c781",
   "metadata": {},
   "outputs": [
    {
     "name": "stdout",
     "output_type": "stream",
     "text": [
      "+--------------------+-----+\n",
      "|               title|count|\n",
      "+--------------------+-----+\n",
      "|   The Corn Is Green|    2|\n",
      "|Meet The Browns -...|    1|\n",
      "|Morenita, El Esca...|    1|\n",
      "| Father Takes a Wife|    1|\n",
      "|    Taking The Curve|    1|\n",
      "|           Fleshburn|    1|\n",
      "|          Dead Lenny|    1|\n",
      "|El juego de la silla|    1|\n",
      "|              Sargad|    1|\n",
      "|                 Kin|    3|\n",
      "|I Don't Feel at H...|    1|\n",
      "|Penguins of Madag...|    1|\n",
      "| Ormayundo Ee Mukham|    1|\n",
      "|         Eat With Me|    1|\n",
      "|  Ainda Há Pastores?|    1|\n",
      "|The Werewolf of W...|    1|\n",
      "|    Conquering China|    1|\n",
      "|Discovering the R...|    1|\n",
      "|My Wife Is a Gang...|    1|\n",
      "|Depeche Mode: Tou...|    1|\n",
      "+--------------------+-----+\n",
      "only showing top 20 rows\n",
      "\n"
     ]
    }
   ],
   "source": [
    "#Calcular las frecuencias por categoria(columna)\n",
    "df.groupBy(df['title']).count().show()"
   ]
  },
  {
   "cell_type": "code",
   "execution_count": null,
   "id": "84db5cda",
   "metadata": {},
   "outputs": [],
   "source": []
  },
  {
   "cell_type": "code",
   "execution_count": null,
   "id": "a55c673e",
   "metadata": {},
   "outputs": [],
   "source": []
  },
  {
   "cell_type": "code",
   "execution_count": null,
   "id": "30e36c2c",
   "metadata": {},
   "outputs": [],
   "source": []
  }
 ],
 "metadata": {
  "kernelspec": {
   "display_name": "Python 3 (ipykernel)",
   "language": "python",
   "name": "python3"
  },
  "language_info": {
   "codemirror_mode": {
    "name": "ipython",
    "version": 3
   },
   "file_extension": ".py",
   "mimetype": "text/x-python",
   "name": "python",
   "nbconvert_exporter": "python",
   "pygments_lexer": "ipython3",
   "version": "3.8.12"
  }
 },
 "nbformat": 4,
 "nbformat_minor": 5
}
